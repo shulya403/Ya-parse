{
 "cells": [
  {
   "cell_type": "code",
   "execution_count": null,
   "metadata": {},
   "outputs": [],
   "source": [
    "# Сбор ссылок на модели\n",
    "import requests\n",
    "from pprint import pprint \n",
    "from bs4 import BeautifulSoup \n",
    "import time\n",
    "import pandas as pd\n",
    "from datetime import datetime\n",
    "import pdb\n",
    "\n",
    "def models_list_in_product_category(url, category_len=1): \n",
    "#Скачиваниие перечня всех устройств в категории католога ya.маркета\n",
    "\n",
    "    models_list = list()     #список словарей с моделями с названиеми и ссылками на модели\n",
    "    \n",
    "    page = 1 #номер страницы выдачи\n",
    "    pages_full = True #есть ли целевой контент на очередной странице\n",
    "    \n",
    "    while pages_full:\n",
    "        if page > 1:\n",
    "            page_url = url + '&page=' + str(page) + '&onstock=1&local-offers-first=0'\n",
    "            if page == 2:\n",
    "                referer = url + '&onstock=1&local-offers-first=0'\n",
    "     \n",
    "            else:   \n",
    "                referer = url + '&page=' + str(page-1) + '&onstock=1&local-offers-first=0'\n",
    "        else:\n",
    "            page_url = url + '&onstock=1&local-offers-first=0'\n",
    "            referer = 'https://market.yandex.ru/catalog--kompiuternaia-tekhnika/54425'\n",
    "        \n",
    "        print(referer)\n",
    "            \n",
    "            \n",
    "           \n",
    "        header = {\n",
    "        'Referer' : referer,\n",
    "        'Accept' : 'text/html,application/xhtml+xml,application/xml;q=0.9,image/webp,image/apng,*/*;q=0.8,application/signed-exchange;v=b3',\n",
    "        'Accept-Encoding' : 'gzip, deflate, br',\n",
    "        'Accept-Language' : 'ru-RU,ru;q=0.9,en-US;q=0.8,en;q=0.7',\n",
    "        'Connection' : 'keep-alive',\n",
    "        'Sec-Fetch-Mode' : 'navigate',\n",
    "        'Sec-Fetch-Site' : 'same-origin',\n",
    "        'Sec-Fetch-User':'?1',\n",
    "        'Upgrade-Insecure-Requests': '1',\n",
    "        'User-Agent': 'Mozilla/5.0 (Windows NT 6.1; Win64; x64) AppleWebKit/537.36 (KHTML, like Gecko) Chrome/77.0.3865.90 Safari/537.36'\n",
    "        }\n",
    "    \n",
    "  \n",
    "        ya_cookies = {\n",
    "            'yandexuid' : '1316442951370867155', \n",
    "            'fuid01' : '4f310da92e0e9ff0.vHkMwDo78qH5TTmHx-stTeCpjL9q0oCG-kHm-t1yw00rSnf7Uxj5eqXaFjpO-Ji3kSQu-TbS-duDcL4tBTDDknJm0Xp2PwtEYgzI74M0t3XEplZr69TXugVdbykMuUYo; yp=1571397397.shlos.0#1600341397.p_sw.1568805397#1572440968.ygu.1#1585616974.szm.1:1680x1050:1614x887', \n",
    "            '_ym_uid' : '1478001885185024594',\n",
    "            'i' : '8k0m5URcQTs/D8+3VhGAv5WDga2dnppzBVV1QJC90LIBHvPMRGJZCfTnVJ0n+Mn0B1Jzd5hn+0ZsECAkAdHOR+LT58Y=',\n",
    "            'mda':'0', \n",
    "            'my' : 'YwA=', \n",
    "            'yabs' : '-frequency=/4/0000000000000000/XtroS9mt81g-FMsSDoUqLB1md3SW/', \n",
    "            '_ym_isad' : '=2', \n",
    "            'yandex_gid' : '213', \n",
    "            'font_loaded' : 'YSv1', \n",
    "            '_ym_wasSynced' : '%7B%22time%22%3A1569848959698%2C%22params%22%3A%7B%22eu%22%3A0%7D%2C%22bkParams%22%3A%7B%7D%7D', \n",
    "            '_ym_d' : '1569848960', \n",
    "            '_ym_visorc_160656':'b', \n",
    "            '_ym_visorc_45411513':'b', \n",
    "            'markethistory':'<h><cm>6427101-9238862</cm><cm>6427101-8538765</cm><m>106905-10467479</m><m>432460-7691987</m><c>7156311</c></h>', \n",
    "            'cmp-merge':'true', \n",
    "            'reviews-merge':'true', \n",
    "            'head-banner-sovetnik':'%7B%22closingCounter%22%3A0%2C%22showingCounter%22%3A1%2C%22shownAfterClicked%22%3Afalse%2C%22isClicked%22%3Afalse%7D; head-banner-sovetnik-info=%7B%22closingCounter%22%3A0%2C%22showingCounter%22%3A1%2C%22shownAfterClicked%22%3Afalse%2C%22isClicked%22%3Afalse%7D', \n",
    "            'head-banner':'%7B%22closingCounter%22%3A0%2C%22showingCounter%22%3A526%2C%22shownAfterClicked%22%3Afalse%2C%22isClicked%22%3Afalse%7D; currentRegionId=213', \n",
    "            'currentRegionName':'%D0%9C%D0%BE%D1%81%D0%BA%D0%B2%D1%83', \n",
    "            'pof':'%7B%22clid%22%3A%5B%22505%22%5D%2C%22mclid%22%3Anull%2C%22distr_type%22%3Anull%2C%22vid%22%3Anull%2C%22opp%22%3Anull%7D', \n",
    "            'cpa':'%7B%22clid%22%3A%5B%22505%22%5D%2C%22mclid%22%3Anull%2C%22distr_type%22%3Anull%2C%22vid%22%3Anull%2C%22opp%22%3Anull%7D; visits=1569848974-1569848974-1569848974; parent_reqid_seq=d42a92a5871ff61374b913eb3f4ccf8f%2Cce5b53e8a009fae941bde9127ffccf95%2C07c761fd008a9de5656c84921bf0aa02; utm_campaign=face_abovesearch', \n",
    "            'utm_source' : 'face_abovesearch', \n",
    "            'uid':'AABbhl2R/o6riwEABZ1KAg==', \n",
    "            'js':'1', \n",
    "            'first_visit_time' : '2019-09-30T16%3A09%3A25%2B03%3A00', \n",
    "            'HISTORY_UNAUTH_SESSION':'true', \n",
    "            'fonts-loaded':'1', \n",
    "            'ugcp':'1',\n",
    "            'viewtype' : 'list'\n",
    "        }\n",
    " \n",
    "    \n",
    "        response = requests.get(page_url, headers = header, cookies = ya_cookies)\n",
    "\n",
    "#        pdb.set_trace()\n",
    "        \n",
    "        if response.status_code == 200:\n",
    "            print('поехали ', page_url)\n",
    "            iter_page_soup = BeautifulSoup(response.text, 'html.parser')\n",
    "            \n",
    "        #Пречень ссылок на модели\n",
    "            rows_models = iter_page_soup.find_all('div', class_='n-snippet-card2 i-bem b-zone b-spy-visible b-spy-events')\n",
    "#            'n-snippet-card2 i-bem b-zone b-spy-visible b-spy-events b-spy-visible_js_inited b-zone_js_inited n-snippet-card2_js_inited b-spy-events_js_inited'\n",
    "\n",
    "#            rows_models = iter_page_soup.find_all('div', class_='n-snippet-card2__title') \n",
    "            if len(rows_models) < 48:\n",
    "                pages_full = False\n",
    "            \n",
    "            if len(rows_models) != 0:\n",
    "                print(page, len(rows_models))\n",
    "#                print(rows_models)\n",
    "                \n",
    "        #Перебирраем модельки на странице       \n",
    "\n",
    "                for row in rows_models:\n",
    "                #И рассовыем их по ключам словаря model_dict\n",
    "                        model_dict = dict()\n",
    "                        model_link = row.find('h3', class_='n-snippet-card2__title').find('a')\n",
    "                        model_dict['Href'] = model_link['href'] #ссылка на страницу модели\n",
    "                    #вообще, надо прибавлять туда   'https://market.yandex.ru', однако excel ограничиает гипперссылки 255 символами\n",
    "                        name = model_link.text.split()\n",
    "                    # Смотрим формат названия категории\n",
    "                        model_dict['Category'] = name[0]\n",
    "                        \n",
    "                        vendor_position = 1\n",
    "                        if category_len > 1:\n",
    "                            for i in range(1, category_len):\n",
    "                                model_dict['Category'] += ' ' + name[i]\n",
    "                                vendor_position += 1\n",
    "                        #имя вендора - первое слово после названия категории продукта\n",
    "                        model_dict['Vendor'] = name[vendor_position]      \n",
    "\n",
    "                    # Смотрим обобщенная модель или отдельная конфигурация только для ноутбуков\n",
    "                        if model_dict['Category'] == 'Ноутбук':\n",
    "                            if '/' in model_link.text:\n",
    "                                model_dict['Assemble'] = False\n",
    "                            else:\n",
    "                                model_dict['Assemble'] = True\n",
    "                        else:\n",
    "                            model_dict['Assemble'] = True\n",
    "\n",
    "                        mod_name = ''\n",
    "                        for word in name[category_len:]:\n",
    "                            mod_name += word + ' '\n",
    "                        model_dict['Name'] = mod_name[:-1]\n",
    "                    # Пихаем словарь модели в общий список    \n",
    "                        print(model_dict['Name'] )\n",
    "                        models_list.append(model_dict)\n",
    "\n",
    "                page += 1\n",
    "          \n",
    "            else:\n",
    "                capcha_quest = iter_page_soup.find('title')\n",
    "                print(capcha_quest)\n",
    "                if capcha_quest.text == 'ÐÐ¹!':\n",
    "                    time.sleep(1)\n",
    "                else:\n",
    "                    print('фигня какая-то')\n",
    "                    break\n",
    "                 \n",
    "            time.sleep(2)\n",
    "        \n",
    "       \n",
    "        else:\n",
    "            print('облом... ', response.status_code)\n",
    "            return  models_list\n",
    "        \n",
    "    return  models_list\n",
    "    \n",
    "    \n",
    "\n",
    "#url = 'https://market.yandex.ru/catalog--noutbuki/54544/list?hid=91013'    \n",
    "#url = 'https://market.yandex.ru/catalog--planshety/54545/list?hid=6427100'\n",
    "#url = 'https://market.yandex.ru/catalog--monitory/54539/list?hid=91052'\n",
    "#url = 'https://market.yandex.ru/catalog--noutbuki/54544/list?hid=91013&onstock=1&local-offers-first=0'\n",
    "#url = 'https://market.yandex.ru/catalog--monobloki/61323/list?hid=12382295'\n",
    "#url = 'https://market.yandex.ru/catalog--istochniki-bespereboinogo-pitaniia/59604/list?hid=91082'\n",
    "url = 'https://market.yandex.ru/catalog--multimedia-proektory/60865/list?hid=191219'\n",
    "#url = 'https://market.yandex.ru/catalog--smartfony/16814639/list?hid=91491&glfilter=16816262%3A16816264'\n",
    "#url = 'https://market.yandex.ru/catalog--umnye-chasy-i-braslety/56034/list?hid=10498025'\n",
    "#url = 'https://market.yandex.ru/catalog--pulsometry-i-shagomery/60855/list?hid=1009489'\n",
    "#url = 'https://market.yandex.ru/catalog--umnye-chasy-i-braslety/56034/list?hid=10498025&glfilter=10769021%3A12113496'\n",
    "category_len = 1 #число слов в названии категории. 'Ноутбук' - 1;'Твердотельный накопитель' - 2\n",
    "\n",
    "\n",
    "list_for_work = models_list_in_product_category(url, category_len)\n",
    "print(len(list_for_work))\n",
    "\n",
    "df = pd.DataFrame(list_for_work)\n",
    "\n",
    "#Убиряем дубли\n",
    "df.drop_duplicates(subset=['Name'], inplace = True)\n",
    "df.reset_index\n",
    "\n",
    "print(len(df))\n",
    "\n",
    "#пихаем в файл\n",
    "\n",
    "now = datetime.now().strftime('%Y-%m-%d--%H-%M')\n",
    "\n",
    "excel_file_name = 'Price_link_list/' + df['Category'][0].split()[0].replace('\"','') + '-ссылки от ' + now + '.xlsx'\n",
    "df.to_excel(excel_file_name)\n",
    "\n",
    "\n"
   ]
  },
  {
   "cell_type": "code",
   "execution_count": null,
   "metadata": {},
   "outputs": [],
   "source": [
    "import pandas as pd\n",
    "import time\n",
    "from datetime import datetime\n",
    "\n",
    "df = pd.DataFrame(list_for_work)\n",
    "\n",
    "now = datetime.now().strftime('%Y-%m-%d--%H-%M')\n",
    "\n",
    "excel_file_name = 'Price_link_list/' + df['Category'][0].split('_')[0] + '-ссылки от ' + now + '.xlsx'\n",
    "df.to_excel(excel_file_name)\n"
   ]
  },
  {
   "cell_type": "code",
   "execution_count": null,
   "metadata": {},
   "outputs": [],
   "source": [
    "df_d = pd.read_excel('Price_link_list/Планшет_8-ссылки от 2019-10-17--18-04.xlsx', index_col = 0)\n",
    "\n",
    "print(len(df_d))\n",
    "df_d.drop_duplicates(subset=['Name'], inplace=True)\n",
    "print(len(df_d))\n",
    "df_d.to_excel('Планшет-ссылки от 2019-10-17--18-04_drop.xlsx')"
   ]
  },
  {
   "cell_type": "code",
   "execution_count": 7,
   "metadata": {
    "scrolled": true
   },
   "outputs": [
    {
     "name": "stdout",
     "output_type": "stream",
     "text": [
      "['Ядро процессора', 'MaxPrice', 'Процессор', 'Сенсорный экран', 'Quantaty', 'MinPrice', 'AvgPrice', 'Name', 'Диагональ экрана', 'Тип видеокарты', 'Видеокарта']\n",
      "на вход 1323\n"
     ]
    },
    {
     "data": {
      "text/plain": [
       "Href                /product--noutbuk-asus-vivobook-15-x512/518204...\n",
       "Name                                            ASUS VivoBook 15 X512\n",
       "Vendor                                                           ASUS\n",
       "Category                                                      Ноутбук\n",
       "Ядро процессора                                                   NaN\n",
       "MaxPrice                                                          NaN\n",
       "Процессор                                                         NaN\n",
       "Сенсорный экран                                                   NaN\n",
       "Quantaty                                                          NaN\n",
       "MinPrice                                                          NaN\n",
       "AvgPrice                                                          NaN\n",
       "Диагональ экрана                                                  NaN\n",
       "Тип видеокарты                                                    NaN\n",
       "Видеокарта                                                        NaN\n",
       "Name: 0, dtype: object"
      ]
     },
     "metadata": {},
     "output_type": "display_data"
    },
    {
     "name": "stdout",
     "output_type": "stream",
     "text": [
      "ASUS VivoBook 15 X512\n"
     ]
    },
    {
     "data": {
      "text/plain": [
       "Href                /product--noutbuk-asus-vivobook-15-x512/518204...\n",
       "Name                                            ASUS VivoBook 15 X512\n",
       "Vendor                                                           ASUS\n",
       "Category                                                      Ноутбук\n",
       "Ядро процессора     Kaby Lake / Kaby Lake-R / Raven Ridge / Whiske...\n",
       "MaxPrice                                                          xxx\n",
       "Процессор            Core i3 / Core i5 / Core i7 / Ryzen 3 / Ryzen 5 \n",
       "Сенсорный экран                                                  нет \n",
       "Quantaty                                                          594\n",
       "MinPrice                                                          xxx\n",
       "AvgPrice                                                        39799\n",
       "Диагональ экрана                                              15.6 \" \n",
       "Тип видеокарты        встроенная, дискретная, дискретная и встроенная\n",
       "Видеокарта          AMD Radeon 540X / AMD Radeon Vega 3 / Intel HD...\n",
       "Name: 0, dtype: object"
      ]
     },
     "metadata": {},
     "output_type": "display_data"
    },
    {
     "name": "stdout",
     "output_type": "stream",
     "text": [
      "Acer Extensa 15 EX215-51\n"
     ]
    },
    {
     "data": {
      "text/plain": [
       "Href                /product--noutbuk-acer-extensa-15-ex215-51/601...\n",
       "Name                                         Acer Extensa 15 EX215-51\n",
       "Vendor                                                           Acer\n",
       "Category                                                      Ноутбук\n",
       "Ядро процессора                          Comet Lake-U / Whiskey Lake \n",
       "MaxPrice                                                          xxx\n",
       "Процессор                                          Core i3 / Core i5 \n",
       "Сенсорный экран                                                  нет \n",
       "Quantaty                                                          784\n",
       "MinPrice                                                          xxx\n",
       "AvgPrice                                                        31160\n",
       "Диагональ экрана                                              15.6 \" \n",
       "Тип видеокарты        встроенная, дискретная, дискретная и встроенная\n",
       "Видеокарта          Intel HD Graphics 620, Intel UHD Graphics, Int...\n",
       "Name: 1, dtype: object"
      ]
     },
     "metadata": {},
     "output_type": "display_data"
    },
    {
     "name": "stdout",
     "output_type": "stream",
     "text": [
      "Apple MacBook Pro 16 with Retina display and Touch Bar Late 2019\n",
      "<div class=\"price\">221 500 ₽</div> 221 500 ₽\n",
      "<div class=\"price price_unactual_yes\"><span class=\"price price_unactual_yes\">224 550 ₽</span></div> 224 550 ₽\n",
      "<div class=\"price\">232 900 ₽</div> 232 900 ₽\n",
      "<div class=\"price\">214 990 ₽</div> 214 990 ₽\n",
      "<div class=\"price\">239 990 ₽</div> 239 990 ₽\n"
     ]
    },
    {
     "data": {
      "text/plain": [
       "Href                /product--noutbuk-apple-macbook-pro-16-with-re...\n",
       "Name                Apple MacBook Pro 16 with Retina display and T...\n",
       "Vendor                                                          Apple\n",
       "Category                                                      Ноутбук\n",
       "Ядро процессора                                                      \n",
       "MaxPrice                                                       239990\n",
       "Процессор                                          Core i7 / Core i9 \n",
       "Сенсорный экран                                                  нет \n",
       "Quantaty                                                          138\n",
       "MinPrice                                                       171990\n",
       "AvgPrice                                                       211750\n",
       "Диагональ экрана                                                16 \" \n",
       "Тип видеокарты                    встроенная, дискретная и встроенная\n",
       "Видеокарта               AMD Radeon Pro 5300M / AMD Radeon Pro 5500M \n",
       "Name: 2, dtype: object"
      ]
     },
     "metadata": {},
     "output_type": "display_data"
    },
    {
     "name": "stdout",
     "output_type": "stream",
     "text": [
      "Xiaomi RedmiBook 14\"\n"
     ]
    },
    {
     "data": {
      "text/plain": [
       "Href                /product--noutbuk-xiaomi-redmibook-14/53865400...\n",
       "Name                                             Xiaomi RedmiBook 14\"\n",
       "Vendor                                                         Xiaomi\n",
       "Category                                                      Ноутбук\n",
       "Ядро процессора                        Whiskey Lake / Whiskey Lake-U \n",
       "MaxPrice                                                          xxx\n",
       "Процессор                                Core i3 / Core i5 / Core i7 \n",
       "Сенсорный экран                                                  нет \n",
       "Quantaty                                                           66\n",
       "MinPrice                                                          xxx\n",
       "AvgPrice                                                        47890\n",
       "Диагональ экрана                                                14 \" \n",
       "Тип видеокарты        встроенная, дискретная, дискретная и встроенная\n",
       "Видеокарта               Intel UHD Graphics 620, NVIDIA GeForce MX250\n",
       "Name: 3, dtype: object"
      ]
     },
     "metadata": {},
     "output_type": "display_data"
    },
    {
     "name": "stdout",
     "output_type": "stream",
     "text": [
      "DELL Vostro 5590\n"
     ]
    },
    {
     "data": {
      "text/plain": [
       "Href                /product--noutbuk-dell-vostro-5590/597180017?s...\n",
       "Name                                                 DELL Vostro 5590\n",
       "Vendor                                                           DELL\n",
       "Category                                                      Ноутбук\n",
       "Ядро процессора                                         Comet Lake-U \n",
       "MaxPrice                                                          xxx\n",
       "Процессор                                            Core i5, Core i7\n",
       "Сенсорный экран                                                  нет \n",
       "Quantaty                                                           46\n",
       "MinPrice                                                          xxx\n",
       "AvgPrice                                                        56390\n",
       "Диагональ экрана                                              15.6 \" \n",
       "Тип видеокарты        встроенная, дискретная, дискретная и встроенная\n",
       "Видеокарта          Intel UHD Graphics, Intel UHD Graphics 620, NV...\n",
       "Name: 4, dtype: object"
      ]
     },
     "metadata": {},
     "output_type": "display_data"
    },
    {
     "name": "stdout",
     "output_type": "stream",
     "text": [
      "Lenovo IdeaPad S340-15 AMD\n"
     ]
    },
    {
     "data": {
      "text/plain": [
       "Href                /product--noutbuk-lenovo-ideapad-s340-15-amd/5...\n",
       "Name                                       Lenovo IdeaPad S340-15 AMD\n",
       "Vendor                                                         Lenovo\n",
       "Category                                                      Ноутбук\n",
       "Ядро процессора                                                  Zen \n",
       "MaxPrice                                                          xxx\n",
       "Процессор                 Core i3, Core i5, Core i7, Ryzen 3, Ryzen 5\n",
       "Сенсорный экран                                                  нет \n",
       "Quantaty                                                          138\n",
       "MinPrice                                                          xxx\n",
       "AvgPrice                                                        41776\n",
       "Диагональ экрана                                              15.6 \" \n",
       "Тип видеокарты        встроенная, дискретная, дискретная и встроенная\n",
       "Видеокарта          Intel UHD Graphics, Intel UHD Graphics 620, NV...\n",
       "Name: 5, dtype: object"
      ]
     },
     "metadata": {},
     "output_type": "display_data"
    },
    {
     "name": "stdout",
     "output_type": "stream",
     "text": [
      "ASUS TUF Gaming FX505\n"
     ]
    },
    {
     "data": {
      "text/plain": [
       "Href                /product--noutbuk-asus-tuf-gaming-fx505/418966...\n",
       "Name                                            ASUS TUF Gaming FX505\n",
       "Vendor                                                           ASUS\n",
       "Category                                                      Ноутбук\n",
       "Ядро процессора                    Coffee Lake / Coffee Lake-H / Zen \n",
       "MaxPrice                                                          xxx\n",
       "Процессор             Core i3, Core i5, Core i7, FX, Ryzen 5, Ryzen 7\n",
       "Сенсорный экран                                                  нет \n",
       "Quantaty                                                          677\n",
       "MinPrice                                                          xxx\n",
       "AvgPrice                                                        67310\n",
       "Диагональ экрана                                              15.6 \" \n",
       "Тип видеокарты        встроенная, дискретная, дискретная и встроенная\n",
       "Видеокарта          AMD Radeon RX 560X / NVIDIA GeForce GTX 1050 /...\n",
       "Name: 6, dtype: object"
      ]
     },
     "metadata": {},
     "output_type": "display_data"
    },
    {
     "name": "stdout",
     "output_type": "stream",
     "text": [
      "Lenovo Ideapad L340-15 Intel\n"
     ]
    },
    {
     "data": {
      "text/plain": [
       "Href                /product--noutbuk-lenovo-ideapad-l340-15-intel...\n",
       "Name                                     Lenovo Ideapad L340-15 Intel\n",
       "Vendor                                                         Lenovo\n",
       "Category                                                      Ноутбук\n",
       "Ядро процессора     Coffee Lake / Whiskey Lake / Whiskey Lake-U / ...\n",
       "MaxPrice                                                          xxx\n",
       "Процессор           Athlon / Celeron / Core i3 / Core i5 / Pentium...\n",
       "Сенсорный экран                                                  нет \n",
       "Quantaty                                                          613\n",
       "MinPrice                                                          xxx\n",
       "AvgPrice                                                        23858\n",
       "Диагональ экрана                                              15.6 \" \n",
       "Тип видеокарты                  встроенная / дискретная и встроенная \n",
       "Видеокарта          AMD Radeon Vega 3 / AMD Radeon Vega 8 / Intel ...\n",
       "Name: 7, dtype: object"
      ]
     },
     "metadata": {},
     "output_type": "display_data"
    },
    {
     "name": "stdout",
     "output_type": "stream",
     "text": [
      "Lenovo V130 15\n"
     ]
    },
    {
     "data": {
      "text/plain": [
       "Href                /product--noutbuk-lenovo-v130-15/197642238?sho...\n",
       "Name                                                   Lenovo V130 15\n",
       "Vendor                                                         Lenovo\n",
       "Category                                                      Ноутбук\n",
       "Ядро процессора     Gemini Lake / Kaby Lake / Kaby Lake Refresh / ...\n",
       "MaxPrice                                                          xxx\n",
       "Процессор                 Celeron, Core i3, Core i5, Core i7, Pentium\n",
       "Сенсорный экран                                                  нет \n",
       "Quantaty                                                          441\n",
       "MinPrice                                                          xxx\n",
       "AvgPrice                                                        26072\n",
       "Диагональ экрана                                              15.6 \" \n",
       "Тип видеокарты                                            встроенная \n",
       "Видеокарта          AMD Radeon 530 / Intel HD Graphics 520 / Intel...\n",
       "Name: 8, dtype: object"
      ]
     },
     "metadata": {},
     "output_type": "display_data"
    },
    {
     "name": "stdout",
     "output_type": "stream",
     "text": [
      "Acer ASPIRE 3 (A315-21)\n"
     ]
    },
    {
     "data": {
      "text/plain": [
       "Href                /product--noutbuk-acer-aspire-3-a315-21/180048...\n",
       "Name                                          Acer ASPIRE 3 (A315-21)\n",
       "Vendor                                                           Acer\n",
       "Category                                                      Ноутбук\n",
       "Ядро процессора                           Raven Ridge / Stoney Ridge \n",
       "MaxPrice                                                          xxx\n",
       "Процессор                                A4 / A6 / A9 / E2 / Ryzen 3 \n",
       "Сенсорный экран                                                  нет \n",
       "Quantaty                                                          495\n",
       "MinPrice                                                          xxx\n",
       "AvgPrice                                                        19030\n",
       "Диагональ экрана                                              15.6 \" \n",
       "Тип видеокарты                                            встроенная \n",
       "Видеокарта          AMD Radeon R2 / AMD Radeon R3 / AMD Radeon R4 ...\n",
       "Name: 9, dtype: object"
      ]
     },
     "metadata": {},
     "output_type": "display_data"
    },
    {
     "name": "stdout",
     "output_type": "stream",
     "text": [
      "Lenovo Ideapad 330 15 Intel\n"
     ]
    },
    {
     "data": {
      "text/plain": [
       "Href                /product--noutbuk-lenovo-ideapad-330-15-intel/...\n",
       "Name                                      Lenovo Ideapad 330 15 Intel\n",
       "Vendor                                                         Lenovo\n",
       "Category                                                      Ноутбук\n",
       "Ядро процессора     Coffee Lake / Coffee Lake-H / Gemini Lake / Ka...\n",
       "MaxPrice                                                          xxx\n",
       "Процессор            Celeron / Core i3 / Core i5 / Core i7 / Pentium \n",
       "Сенсорный экран                                                  нет \n",
       "Quantaty                                                          554\n",
       "MinPrice                                                          xxx\n",
       "AvgPrice                                                        34905\n",
       "Диагональ экрана                                              15.6 \" \n",
       "Тип видеокарты      встроенная / дискретная / дискретная и встроен...\n",
       "Видеокарта          AMD Radeon 530 / Intel HD Graphics 520 / Intel...\n",
       "Name: 10, dtype: object"
      ]
     },
     "metadata": {},
     "output_type": "display_data"
    },
    {
     "name": "stdout",
     "output_type": "stream",
     "text": [
      "Apple MacBook Pro 13 with Retina display and Touch Bar Mid 2019\n"
     ]
    },
    {
     "data": {
      "text/plain": [
       "Href                /product--noutbuk-apple-macbook-pro-13-with-re...\n",
       "Name                Apple MacBook Pro 13 with Retina display and T...\n",
       "Vendor                                                          Apple\n",
       "Category                                                      Ноутбук\n",
       "Ядро процессора                                                      \n",
       "MaxPrice                                                          xxx\n",
       "Процессор                                          Core i5 / Core i7 \n",
       "Сенсорный экран                                                  нет \n",
       "Quantaty                                                          406\n",
       "MinPrice                                                          xxx\n",
       "AvgPrice                                                       122190\n",
       "Диагональ экрана                                              13.3 \" \n",
       "Тип видеокарты                                            встроенная \n",
       "Видеокарта          Intel Iris Plus Graphics 645 / Intel Iris Plus...\n",
       "Name: 11, dtype: object"
      ]
     },
     "metadata": {},
     "output_type": "display_data"
    },
    {
     "name": "stdout",
     "output_type": "stream",
     "text": [
      "ASUS ZenBook 14 UX433\n"
     ]
    },
    {
     "data": {
      "text/plain": [
       "Href                /product--noutbuk-asus-zenbook-14-ux433/273011...\n",
       "Name                                            ASUS ZenBook 14 UX433\n",
       "Vendor                                                           ASUS\n",
       "Category                                                      Ноутбук\n",
       "Ядро процессора                        Whiskey Lake / Whiskey Lake-U \n",
       "MaxPrice                                                          xxx\n",
       "Процессор                                Core i3 / Core i5 / Core i7 \n",
       "Сенсорный экран                                                  нет \n",
       "Quantaty                                                           58\n",
       "MinPrice                                                          xxx\n",
       "AvgPrice                                                        67990\n",
       "Диагональ экрана                                                14 \" \n",
       "Тип видеокарты                  встроенная / дискретная и встроенная \n",
       "Видеокарта             Intel UHD Graphics 620 / NVIDIA GeForce MX150 \n",
       "Name: 12, dtype: object"
      ]
     },
     "metadata": {},
     "output_type": "display_data"
    },
    {
     "name": "stdout",
     "output_type": "stream",
     "text": [
      "Xiaomi Mi Notebook Pro 15.6 2019\n"
     ]
    },
    {
     "data": {
      "text/plain": [
       "Href                /product--noutbuk-xiaomi-mi-notebook-pro-15-6-...\n",
       "Name                                 Xiaomi Mi Notebook Pro 15.6 2019\n",
       "Vendor                                                         Xiaomi\n",
       "Category                                                      Ноутбук\n",
       "Ядро процессора                                          Kaby Lake-R \n",
       "MaxPrice                                                          xxx\n",
       "Процессор                                          Core i5 / Core i7 \n",
       "Сенсорный экран                                                  нет \n",
       "Quantaty                                                           41\n",
       "MinPrice                                                          xxx\n",
       "AvgPrice                                                        64990\n",
       "Диагональ экрана                                              15.6 \" \n",
       "Тип видеокарты                                            дискретная \n",
       "Видеокарта                                      NVIDIA GeForce MX250 \n",
       "Name: 13, dtype: object"
      ]
     },
     "metadata": {},
     "output_type": "display_data"
    },
    {
     "name": "stdout",
     "output_type": "stream",
     "text": [
      "HP ProBook 430 G6\n"
     ]
    },
    {
     "data": {
      "text/plain": [
       "Href                /product--noutbuk-hp-probook-430-g6/318549883?...\n",
       "Name                                                HP ProBook 430 G6\n",
       "Vendor                                                             HP\n",
       "Category                                                      Ноутбук\n",
       "Ядро процессора                        Whiskey Lake / Whiskey Lake-U \n",
       "MaxPrice                                                          xxx\n",
       "Процессор                                Core i3 / Core i5 / Core i7 \n",
       "Сенсорный экран                                                  нет \n",
       "Quantaty                                                          418\n",
       "MinPrice                                                          xxx\n",
       "AvgPrice                                                        51190\n",
       "Диагональ экрана                                              13.3 \" \n",
       "Тип видеокарты                                            встроенная \n",
       "Видеокарта                                    Intel UHD Graphics 620 \n",
       "Name: 14, dtype: object"
      ]
     },
     "metadata": {},
     "output_type": "display_data"
    },
    {
     "name": "stdout",
     "output_type": "stream",
     "text": [
      "HP 250 G7\n"
     ]
    },
    {
     "data": {
      "text/plain": [
       "Href                /product--noutbuk-hp-250-g7/439496324?show-uid...\n",
       "Name                                                        HP 250 G7\n",
       "Vendor                                                             HP\n",
       "Category                                                      Ноутбук\n",
       "Ядро процессора     Gemini Lake / Kaby Lake / Kaby Lake Refresh / ...\n",
       "MaxPrice                                                          xxx\n",
       "Процессор            Celeron / Core i3 / Core i5 / Core i7 / Pentium \n",
       "Сенсорный экран                                                  нет \n",
       "Quantaty                                                          617\n",
       "MinPrice                                                          xxx\n",
       "AvgPrice                                                        36128\n",
       "Диагональ экрана                                              15.6 \" \n",
       "Тип видеокарты      встроенная / дискретная / дискретная и встроен...\n",
       "Видеокарта          Intel HD Graphics 610 / Intel HD Graphics 620 ...\n",
       "Name: 15, dtype: object"
      ]
     },
     "metadata": {},
     "output_type": "display_data"
    },
    {
     "name": "stdout",
     "output_type": "stream",
     "text": [
      "HP ProBook 440 G6\n"
     ]
    },
    {
     "data": {
      "text/plain": [
       "Href                /product--noutbuk-hp-probook-440-g6/323146560?...\n",
       "Name                                                HP ProBook 440 G6\n",
       "Vendor                                                             HP\n",
       "Category                                                      Ноутбук\n",
       "Ядро процессора                        Whiskey Lake / Whiskey Lake-U \n",
       "MaxPrice                                                          xxx\n",
       "Процессор                                Core i3 / Core i5 / Core i7 \n",
       "Сенсорный экран                                                  нет \n",
       "Quantaty                                                          431\n",
       "MinPrice                                                          xxx\n",
       "AvgPrice                                                        52905\n",
       "Диагональ экрана                                                14 \" \n",
       "Тип видеокарты                  встроенная / дискретная и встроенная \n",
       "Видеокарта             Intel UHD Graphics 620 / NVIDIA GeForce MX130 \n",
       "Name: 16, dtype: object"
      ]
     },
     "metadata": {},
     "output_type": "display_data"
    },
    {
     "name": "stdout",
     "output_type": "stream",
     "text": [
      "ASUS VivoBook S15 S530\n"
     ]
    },
    {
     "data": {
      "text/plain": [
       "Href                /product--noutbuk-asus-vivobook-s15-s530/19538...\n",
       "Name                                           ASUS VivoBook S15 S530\n",
       "Vendor                                                           ASUS\n",
       "Category                                                      Ноутбук\n",
       "Ядро процессора               Kaby Lake / Kaby Lake-R / Whiskey Lake \n",
       "MaxPrice                                                          xxx\n",
       "Процессор                                Core i3 / Core i5 / Core i7 \n",
       "Сенсорный экран                                                  нет \n",
       "Quantaty                                                           91\n",
       "MinPrice                                                          xxx\n",
       "AvgPrice                                                        55544\n",
       "Диагональ экрана                                              15.6 \" \n",
       "Тип видеокарты      встроенная / дискретная / дискретная и встроен...\n",
       "Видеокарта          Intel UHD Graphics 620 / NVIDIA GeForce MX130 ...\n",
       "Name: 17, dtype: object"
      ]
     },
     "metadata": {},
     "output_type": "display_data"
    },
    {
     "name": "stdout",
     "output_type": "stream",
     "text": [
      "HP ProBook 450 G6\n"
     ]
    },
    {
     "data": {
      "text/plain": [
       "Href                /product--noutbuk-hp-probook-450-g6/308389979?...\n",
       "Name                                                HP ProBook 450 G6\n",
       "Vendor                                                             HP\n",
       "Category                                                      Ноутбук\n",
       "Ядро процессора                                                      \n",
       "MaxPrice                                                          xxx\n",
       "Процессор                                                    Core i5 \n",
       "Сенсорный экран                                                  нет \n",
       "Quantaty                                                          495\n",
       "MinPrice                                                          xxx\n",
       "AvgPrice                                                        55670\n",
       "Диагональ экрана                                              15.6 \" \n",
       "Тип видеокарты                                                       \n",
       "Видеокарта                                                           \n",
       "Name: 18, dtype: object"
      ]
     },
     "metadata": {},
     "output_type": "display_data"
    },
    {
     "name": "stdout",
     "output_type": "stream",
     "text": [
      "ASUS ZenBook Duo UX481\n"
     ]
    },
    {
     "data": {
      "text/plain": [
       "Href                /product--noutbuk-asus-zenbook-duo-ux481/56209...\n",
       "Name                                           ASUS ZenBook Duo UX481\n",
       "Vendor                                                           ASUS\n",
       "Category                                                      Ноутбук\n",
       "Ядро процессора                                         Comet Lake-U \n",
       "MaxPrice                                                          xxx\n",
       "Процессор                                          Core i5 / Core i7 \n",
       "Сенсорный экран                                                  нет \n",
       "Quantaty                                                           82\n",
       "MinPrice                                                          xxx\n",
       "AvgPrice                                                        92890\n",
       "Диагональ экрана                                                14 \" \n",
       "Тип видеокарты        встроенная, дискретная, дискретная и встроенная\n",
       "Видеокарта                   Intel UHD Graphics, NVIDIA GeForce MX250\n",
       "Name: 19, dtype: object"
      ]
     },
     "metadata": {},
     "output_type": "display_data"
    },
    {
     "name": "stdout",
     "output_type": "stream",
     "text": [
      "Xiaomi Mi Notebook Air 13.3\" 2019\n"
     ]
    },
    {
     "data": {
      "text/plain": [
       "Href                /product--noutbuk-xiaomi-mi-notebook-air-13-3-...\n",
       "Name                                Xiaomi Mi Notebook Air 13.3\" 2019\n",
       "Vendor                                                         Xiaomi\n",
       "Category                                                      Ноутбук\n",
       "Ядро процессора                                          Kaby Lake-R \n",
       "MaxPrice                                                          xxx\n",
       "Процессор                                          Core i5 / Core i7 \n",
       "Сенсорный экран                                                  нет \n",
       "Quantaty                                                           68\n",
       "MinPrice                                                          xxx\n",
       "AvgPrice                                                        57830\n",
       "Диагональ экрана                                              13.3 \" \n",
       "Тип видеокарты                  встроенная / дискретная и встроенная \n",
       "Видеокарта             Intel UHD Graphics 620 / NVIDIA GeForce MX250 \n",
       "Name: 20, dtype: object"
      ]
     },
     "metadata": {},
     "output_type": "display_data"
    },
    {
     "name": "stdout",
     "output_type": "stream",
     "text": [
      "Lenovo Ideapad L340 (15) Gaming\n"
     ]
    },
    {
     "data": {
      "text/plain": [
       "Href                /product--noutbuk-lenovo-ideapad-l340-15-gamin...\n",
       "Name                                  Lenovo Ideapad L340 (15) Gaming\n",
       "Vendor                                                         Lenovo\n",
       "Category                                                      Ноутбук\n",
       "Ядро процессора                                          Coffee Lake \n",
       "MaxPrice                                                          xxx\n",
       "Процессор                                          Core i5 / Core i7 \n",
       "Сенсорный экран                                                  нет \n",
       "Quantaty                                                          142\n",
       "MinPrice                                                          xxx\n",
       "AvgPrice                                                        62886\n",
       "Диагональ экрана                                              15.6 \" \n",
       "Тип видеокарты                    дискретная, дискретная и встроенная\n",
       "Видеокарта          NVIDIA GeForce GTX 1050 / NVIDIA GeForce GTX 1...\n",
       "Name: 21, dtype: object"
      ]
     },
     "metadata": {},
     "output_type": "display_data"
    },
    {
     "name": "stdout",
     "output_type": "stream",
     "text": [
      "Acer ASPIRE 3 (A315-54K)\n"
     ]
    },
    {
     "data": {
      "text/plain": [
       "Href                /product--noutbuk-acer-aspire-3-a315-54k/56208...\n",
       "Name                                         Acer ASPIRE 3 (A315-54K)\n",
       "Vendor                                                           Acer\n",
       "Category                                                      Ноутбук\n",
       "Ядро процессора                                            Kaby Lake \n",
       "MaxPrice                                                          xxx\n",
       "Процессор                                                    Core i3 \n",
       "Сенсорный экран                                                  нет \n",
       "Quantaty                                                          161\n",
       "MinPrice                                                          xxx\n",
       "AvgPrice                                                        25820\n",
       "Диагональ экрана                                              15.6 \" \n",
       "Тип видеокарты                    встроенная, дискретная и встроенная\n",
       "Видеокарта                                     Intel HD Graphics 620 \n",
       "Name: 22, dtype: object"
      ]
     },
     "metadata": {},
     "output_type": "display_data"
    },
    {
     "name": "stdout",
     "output_type": "stream",
     "text": [
      "MSI GL65 9SDK\n"
     ]
    },
    {
     "data": {
      "text/plain": [
       "Href                /product--noutbuk-msi-gl65-9sdk/604943001?show...\n",
       "Name                                                    MSI GL65 9SDK\n",
       "Vendor                                                            MSI\n",
       "Category                                                      Ноутбук\n",
       "Ядро процессора                                          Coffee Lake \n",
       "MaxPrice                                                          xxx\n",
       "Процессор                                          Core i5 / Core i7 \n",
       "Сенсорный экран                                                  нет \n",
       "Quantaty                                                          123\n",
       "MinPrice                                                          xxx\n",
       "AvgPrice                                                        84650\n",
       "Диагональ экрана                                              15.6 \" \n",
       "Тип видеокарты                               дискретная и встроенная \n",
       "Видеокарта                                NVIDIA GeForce GTX 1660 Ti \n",
       "Name: 23, dtype: object"
      ]
     },
     "metadata": {},
     "output_type": "display_data"
    },
    {
     "name": "stdout",
     "output_type": "stream",
     "text": [
      "MSI Prestige 15 A10SC\n"
     ]
    },
    {
     "data": {
      "text/plain": [
       "Href                /product--noutbuk-msi-prestige-15-a10sc/604979...\n",
       "Name                                            MSI Prestige 15 A10SC\n",
       "Vendor                                                            MSI\n",
       "Category                                                      Ноутбук\n",
       "Ядро процессора                                         Comet Lake-U \n",
       "MaxPrice                                                          xxx\n",
       "Процессор                                          Core i5 / Core i7 \n",
       "Сенсорный экран                                                  нет \n",
       "Quantaty                                                            8\n",
       "MinPrice                                                          xxx\n",
       "AvgPrice                                                        96459\n",
       "Диагональ экрана                                              15.6 \" \n",
       "Тип видеокарты                               дискретная и встроенная \n",
       "Видеокарта                                   NVIDIA GeForce GTX 1650 \n",
       "Name: 24, dtype: object"
      ]
     },
     "metadata": {},
     "output_type": "display_data"
    },
    {
     "name": "stdout",
     "output_type": "stream",
     "text": [
      "HP 250 G6\n"
     ]
    },
    {
     "data": {
      "text/plain": [
       "Href                /product--noutbuk-hp-250-g6/1729354923?show-ui...\n",
       "Name                                                        HP 250 G6\n",
       "Vendor                                                             HP\n",
       "Category                                                      Ноутбук\n",
       "Ядро процессора     Apollo Lake / Braswell / Broadwell / Gemini La...\n",
       "MaxPrice                                                          xxx\n",
       "Процессор            Celeron / Core i3 / Core i5 / Core i7 / Pentium \n",
       "Сенсорный экран                                                  нет \n",
       "Quantaty                                                          405\n",
       "MinPrice                                                          xxx\n",
       "AvgPrice                                                        32540\n",
       "Диагональ экрана                                              15.6 \" \n",
       "Тип видеокарты                  встроенная / дискретная и встроенная \n",
       "Видеокарта          AMD Radeon 520 / AMD Radeon R5 M430 / Intel HD...\n",
       "Name: 25, dtype: object"
      ]
     },
     "metadata": {},
     "output_type": "display_data"
    },
    {
     "name": "stdout",
     "output_type": "stream",
     "text": [
      "ASUS VivoBook S13 S330\n"
     ]
    },
    {
     "data": {
      "text/plain": [
       "Href                /product--noutbuk-asus-vivobook-s13-s330/32913...\n",
       "Name                                           ASUS VivoBook S13 S330\n",
       "Vendor                                                           ASUS\n",
       "Category                                                      Ноутбук\n",
       "Ядро процессора     Kaby Lake / Kaby Lake-R / Whiskey Lake / Whisk...\n",
       "MaxPrice                                                          xxx\n",
       "Процессор                                          Core i3 / Core i5 \n",
       "Сенсорный экран                                                  нет \n",
       "Quantaty                                                           37\n",
       "MinPrice                                                          xxx\n",
       "AvgPrice                                                        47685\n",
       "Диагональ экрана                                              13.3 \" \n",
       "Тип видеокарты                  встроенная / дискретная и встроенная \n",
       "Видеокарта             Intel UHD Graphics 620 / NVIDIA GeForce MX150 \n",
       "Name: 26, dtype: object"
      ]
     },
     "metadata": {},
     "output_type": "display_data"
    },
    {
     "name": "stdout",
     "output_type": "stream",
     "text": [
      "Apple MacBook Air 13 дисплей Retina с технологией True Tone Mid 2019\n"
     ]
    },
    {
     "data": {
      "text/plain": [
       "Href                /product--noutbuk-apple-macbook-air-13-displei...\n",
       "Name                Apple MacBook Air 13 дисплей Retina с технолог...\n",
       "Vendor                                                          Apple\n",
       "Category                                                      Ноутбук\n",
       "Ядро процессора                                         Amber Lake-Y \n",
       "MaxPrice                                                          xxx\n",
       "Процессор                                                    Core i5 \n",
       "Сенсорный экран                                                  нет \n",
       "Quantaty                                                          307\n",
       "MinPrice                                                          xxx\n",
       "AvgPrice                                                        90990\n",
       "Диагональ экрана                                              13.3 \" \n",
       "Тип видеокарты                                            встроенная \n",
       "Видеокарта                                    Intel UHD Graphics 617 \n",
       "Name: 27, dtype: object"
      ]
     },
     "metadata": {},
     "output_type": "display_data"
    },
    {
     "name": "stdout",
     "output_type": "stream",
     "text": [
      "DELL G5 15 5587\n"
     ]
    },
    {
     "data": {
      "text/plain": [
       "Href                /product--noutbuk-dell-g5-15-5587/109750281?sh...\n",
       "Name                                                  DELL G5 15 5587\n",
       "Vendor                                                           DELL\n",
       "Category                                                      Ноутбук\n",
       "Ядро процессора                                                      \n",
       "MaxPrice                                                          xxx\n",
       "Процессор                                            Core i5, Core i7\n",
       "Сенсорный экран                                                  нет \n",
       "Quantaty                                                           38\n",
       "MinPrice                                                          xxx\n",
       "AvgPrice                                                        59199\n",
       "Диагональ экрана                                              15.6 \" \n",
       "Тип видеокарты                    дискретная, дискретная и встроенная\n",
       "Видеокарта          Intel HD Graphics 630, NVIDIA GeForce GTX 1050...\n",
       "Name: 28, dtype: object"
      ]
     },
     "metadata": {},
     "output_type": "display_data"
    },
    {
     "name": "stdout",
     "output_type": "stream",
     "text": [
      "Acer Aspire 3 (A315-42G)\n"
     ]
    },
    {
     "data": {
      "text/plain": [
       "Href                /product--noutbuk-acer-aspire-3-a315-42g/56700...\n",
       "Name                                         Acer Aspire 3 (A315-42G)\n",
       "Vendor                                                           Acer\n",
       "Category                                                      Ноутбук\n",
       "Ядро процессора                                                      \n",
       "MaxPrice                                                          xxx\n",
       "Процессор              Athlon, Ryzen 3, Ryzen 5, Ryzen 7, Ryzen 7 PRO\n",
       "Сенсорный экран                                                  нет \n",
       "Quantaty                                                          276\n",
       "MinPrice                                                          xxx\n",
       "AvgPrice                                                        28988\n",
       "Диагональ экрана                                              15.6 \" \n",
       "Тип видеокарты        встроенная, дискретная, дискретная и встроенная\n",
       "Видеокарта          AMD Radeon 540X, AMD Radeon RX 540, AMD Radeon...\n",
       "Name: 29, dtype: object"
      ]
     },
     "metadata": {},
     "output_type": "display_data"
    },
    {
     "name": "stdout",
     "output_type": "stream",
     "text": [
      "ASUS ZenBook UX410UA\n"
     ]
    },
    {
     "data": {
      "text/plain": [
       "Href                /product--noutbuk-asus-zenbook-ux410ua/1728147...\n",
       "Name                                             ASUS ZenBook UX410UA\n",
       "Vendor                                                           ASUS\n",
       "Category                                                      Ноутбук\n",
       "Ядро процессора                              Kaby Lake / Kaby Lake-R \n",
       "MaxPrice                                                          xxx\n",
       "Процессор                                Core i3 / Core i5 / Core i7 \n",
       "Сенсорный экран                                                  нет \n",
       "Quantaty                                                           29\n",
       "MinPrice                                                          xxx\n",
       "AvgPrice                                                        47870\n",
       "Диагональ экрана                                                14 \" \n",
       "Тип видеокарты                                            встроенная \n",
       "Видеокарта            Intel HD Graphics 620 / Intel UHD Graphics 620 \n",
       "Name: 30, dtype: object"
      ]
     },
     "metadata": {},
     "output_type": "display_data"
    },
    {
     "name": "stdout",
     "output_type": "stream",
     "text": [
      "MSI GF63 Thin 9RCX\n"
     ]
    },
    {
     "data": {
      "text/plain": [
       "Href                /product--noutbuk-msi-gf63-thin-9rcx/562098238...\n",
       "Name                                               MSI GF63 Thin 9RCX\n",
       "Vendor                                                            MSI\n",
       "Category                                                      Ноутбук\n",
       "Ядро процессора                                          Coffee Lake \n",
       "MaxPrice                                                          xxx\n",
       "Процессор                                          Core i5 / Core i7 \n",
       "Сенсорный экран                                                  нет \n",
       "Quantaty                                                          111\n",
       "MinPrice                                                          xxx\n",
       "AvgPrice                                                        63470\n",
       "Диагональ экрана                                              15.6 \" \n",
       "Тип видеокарты                    дискретная, дискретная и встроенная\n",
       "Видеокарта          Intel UHD Graphics 630, NVIDIA GeForce GTX 105...\n",
       "Name: 31, dtype: object"
      ]
     },
     "metadata": {},
     "output_type": "display_data"
    },
    {
     "name": "stdout",
     "output_type": "stream",
     "text": [
      "DELL Inspiron 3584\n"
     ]
    },
    {
     "data": {
      "text/plain": [
       "Href                /product--noutbuk-dell-inspiron-3584/437251104...\n",
       "Name                                               DELL Inspiron 3584\n",
       "Vendor                                                           DELL\n",
       "Category                                                      Ноутбук\n",
       "Ядро процессора                                            Kaby Lake \n",
       "MaxPrice                                                          xxx\n",
       "Процессор                                            Core i3, Core i5\n",
       "Сенсорный экран                                                  нет \n",
       "Quantaty                                                          468\n",
       "MinPrice                                                          xxx\n",
       "AvgPrice                                                        28547\n",
       "Диагональ экрана                                              15.6 \" \n",
       "Тип видеокарты                               встроенная / дискретная \n",
       "Видеокарта          Intel HD Graphics 620, Intel UHD Graphics 605,...\n",
       "Name: 32, dtype: object"
      ]
     },
     "metadata": {},
     "output_type": "display_data"
    },
    {
     "name": "stdout",
     "output_type": "stream",
     "text": [
      "Acer ASPIRE 3 (A315-41)\n"
     ]
    },
    {
     "data": {
      "text/plain": [
       "Href                /product--noutbuk-acer-aspire-3-a315-41/103388...\n",
       "Name                                          Acer ASPIRE 3 (A315-41)\n",
       "Vendor                                                           Acer\n",
       "Category                                                      Ноутбук\n",
       "Ядро процессора                                          Raven Ridge \n",
       "MaxPrice                                                          xxx\n",
       "Процессор                                Ryzen 3 / Ryzen 5 / Ryzen 7 \n",
       "Сенсорный экран                                                  нет \n",
       "Quantaty                                                          143\n",
       "MinPrice                                                          xxx\n",
       "AvgPrice                                                        26250\n",
       "Диагональ экрана                                              15.6 \" \n",
       "Тип видеокарты                                            встроенная \n",
       "Видеокарта          AMD Radeon RX Vega 10 / AMD Radeon Vega 10 / A...\n",
       "Name: 33, dtype: object"
      ]
     },
     "metadata": {},
     "output_type": "display_data"
    },
    {
     "name": "stdout",
     "output_type": "stream",
     "text": [
      "Lenovo V130 14\n"
     ]
    },
    {
     "data": {
      "text/plain": [
       "Href                /product--noutbuk-lenovo-v130-14/197640249?sho...\n",
       "Name                                                   Lenovo V130 14\n",
       "Vendor                                                         Lenovo\n",
       "Category                                                      Ноутбук\n",
       "Ядро процессора     Gemini Lake / Kaby Lake / Kaby Lake Refresh / ...\n",
       "MaxPrice                                                          xxx\n",
       "Процессор                      Celeron / Core i3 / Core i5 / Pentium \n",
       "Сенсорный экран                                                  нет \n",
       "Quantaty                                                          178\n",
       "MinPrice                                                          xxx\n",
       "AvgPrice                                                        30549\n",
       "Диагональ экрана                                                14 \" \n",
       "Тип видеокарты                                            встроенная \n",
       "Видеокарта          Intel HD Graphics 520 / Intel HD Graphics 610 ...\n",
       "Name: 34, dtype: object"
      ]
     },
     "metadata": {},
     "output_type": "display_data"
    },
    {
     "name": "stdout",
     "output_type": "stream",
     "text": [
      "ASUS VivoBook S14 S431\n"
     ]
    },
    {
     "data": {
      "text/plain": [
       "Href                /product--noutbuk-asus-vivobook-s14-s431/61763...\n",
       "Name                                           ASUS VivoBook S14 S431\n",
       "Vendor                                                           ASUS\n",
       "Category                                                      Ноутбук\n",
       "Ядро процессора                                         Whiskey Lake \n",
       "MaxPrice                                                          xxx\n",
       "Процессор                                            Core i3, Core i5\n",
       "Сенсорный экран                                                      \n",
       "Quantaty                                                           25\n",
       "MinPrice                                                          xxx\n",
       "AvgPrice                                                        49677\n",
       "Диагональ экрана                                                14 \" \n",
       "Тип видеокарты                                            встроенная \n",
       "Видеокарта                                    Intel UHD Graphics 620 \n",
       "Name: 35, dtype: object"
      ]
     },
     "metadata": {},
     "output_type": "display_data"
    },
    {
     "name": "stdout",
     "output_type": "stream",
     "text": [
      "Xiaomi Mi Notebook Pro 15.6 GTX\n"
     ]
    },
    {
     "data": {
      "text/plain": [
       "Href                /product--noutbuk-xiaomi-mi-notebook-pro-15-6-...\n",
       "Name                                  Xiaomi Mi Notebook Pro 15.6 GTX\n",
       "Vendor                                                         Xiaomi\n",
       "Category                                                      Ноутбук\n",
       "Ядро процессора                                          Kaby Lake-R \n",
       "MaxPrice                                                          xxx\n",
       "Процессор                                          Core i5 / Core i7 \n",
       "Сенсорный экран                                                  нет \n",
       "Quantaty                                                           25\n",
       "MinPrice                                                          xxx\n",
       "AvgPrice                                                        82180\n",
       "Диагональ экрана                                              15.6 \" \n",
       "Тип видеокарты                                 встроенная, дискретная\n",
       "Видеокарта                                   NVIDIA GeForce GTX 1050 \n",
       "Name: 36, dtype: object"
      ]
     },
     "metadata": {},
     "output_type": "display_data"
    },
    {
     "name": "stdout",
     "output_type": "stream",
     "text": [
      "ASUS X507UA\n"
     ]
    },
    {
     "data": {
      "text/plain": [
       "Href                /product--noutbuk-asus-x507ua/1976704061?show-...\n",
       "Name                                                      ASUS X507UA\n",
       "Vendor                                                           ASUS\n",
       "Category                                                      Ноутбук\n",
       "Ядро процессора            Kaby Lake / Kaby Lake Refresh / Skylake-U \n",
       "MaxPrice                                                          xxx\n",
       "Процессор                                Core i3 / Core i5 / Pentium \n",
       "Сенсорный экран                                                  нет \n",
       "Quantaty                                                          100\n",
       "MinPrice                                                          xxx\n",
       "AvgPrice                                                        23490\n",
       "Диагональ экрана                                              15.6 \" \n",
       "Тип видеокарты                                            встроенная \n",
       "Видеокарта          Intel HD Graphics 520 / Intel HD Graphics 620 ...\n",
       "Name: 37, dtype: object"
      ]
     },
     "metadata": {},
     "output_type": "display_data"
    },
    {
     "name": "stdout",
     "output_type": "stream",
     "text": [
      "Acer ASPIRE 3 (A315-22)\n"
     ]
    },
    {
     "data": {
      "text/plain": [
       "Href                /product--noutbuk-acer-aspire-3-a315-22/617636...\n",
       "Name                                          Acer ASPIRE 3 (A315-22)\n",
       "Vendor                                                           Acer\n",
       "Category                                                      Ноутбук\n",
       "Ядро процессора                                                      \n",
       "MaxPrice                                                          xxx\n",
       "Процессор                                                  A4, A6, A9\n",
       "Сенсорный экран                                                  нет \n",
       "Quantaty                                                           59\n",
       "MinPrice                                                          xxx\n",
       "AvgPrice                                                        19990\n",
       "Диагональ экрана                                              15.6 \" \n",
       "Тип видеокарты                                 встроенная, дискретная\n",
       "Видеокарта                              AMD Radeon 530, AMD Radeon R5\n",
       "Name: 38, dtype: object"
      ]
     },
     "metadata": {},
     "output_type": "display_data"
    },
    {
     "name": "stdout",
     "output_type": "stream",
     "text": [
      "ASUS ZenBook 14 UX434\n"
     ]
    },
    {
     "data": {
      "text/plain": [
       "Href                /product--noutbuk-asus-zenbook-14-ux434/562096...\n",
       "Name                                            ASUS ZenBook 14 UX434\n",
       "Vendor                                                           ASUS\n",
       "Category                                                      Ноутбук\n",
       "Ядро процессора                                         Whiskey Lake \n",
       "MaxPrice                                                          xxx\n",
       "Процессор                                          Core i5 / Core i7 \n",
       "Сенсорный экран                                                  нет \n",
       "Quantaty                                                           19\n",
       "MinPrice                                                          xxx\n",
       "AvgPrice                                                        78275\n",
       "Диагональ экрана                                                14 \" \n",
       "Тип видеокарты                    дискретная, дискретная и встроенная\n",
       "Видеокарта               Intel UHD Graphics 620, NVIDIA GeForce MX250\n",
       "Name: 39, dtype: object"
      ]
     },
     "metadata": {},
     "output_type": "display_data"
    },
    {
     "name": "stdout",
     "output_type": "stream",
     "text": [
      "DELL XPS 15 7590\n"
     ]
    },
    {
     "data": {
      "text/plain": [
       "Href                /product--noutbuk-dell-xps-15-7590/537792012?s...\n",
       "Name                                                 DELL XPS 15 7590\n",
       "Vendor                                                           DELL\n",
       "Category                                                      Ноутбук\n",
       "Ядро процессора                                          Coffee Lake \n",
       "MaxPrice                                                          xxx\n",
       "Процессор                                Core i5 / Core i7 / Core i9 \n",
       "Сенсорный экран                                          опционально \n",
       "Quantaty                                                          218\n",
       "MinPrice                                                          xxx\n",
       "AvgPrice                                                       140290\n",
       "Диагональ экрана                                              15.6 \" \n",
       "Тип видеокарты                    дискретная, дискретная и встроенная\n",
       "Видеокарта            Intel UHD Graphics 630, NVIDIA GeForce GTX 1650\n",
       "Name: 40, dtype: object"
      ]
     },
     "metadata": {},
     "output_type": "display_data"
    },
    {
     "name": "stdout",
     "output_type": "stream",
     "text": [
      "Acer Extensa 15 EX215-51G\n"
     ]
    },
    {
     "data": {
      "text/plain": [
       "Href                /product--noutbuk-acer-extensa-15-ex215-51g/60...\n",
       "Name                                        Acer Extensa 15 EX215-51G\n",
       "Vendor                                                           Acer\n",
       "Category                                                      Ноутбук\n",
       "Ядро процессора                                         Whiskey Lake \n",
       "MaxPrice                                                          xxx\n",
       "Процессор                                            Core i3, Core i5\n",
       "Сенсорный экран                                                  нет \n",
       "Quantaty                                                          310\n",
       "MinPrice                                                          xxx\n",
       "AvgPrice                                                        35600\n",
       "Диагональ экрана                                              15.6 \" \n",
       "Тип видеокарты        встроенная, дискретная, дискретная и встроенная\n",
       "Видеокарта                                      NVIDIA GeForce MX230 \n",
       "Name: 41, dtype: object"
      ]
     },
     "metadata": {},
     "output_type": "display_data"
    },
    {
     "name": "stdout",
     "output_type": "stream",
     "text": [
      "Acer Aspire 3 (A315-42)\n"
     ]
    },
    {
     "data": {
      "text/plain": [
       "Href                /product--noutbuk-acer-aspire-3-a315-42/562096...\n",
       "Name                                          Acer Aspire 3 (A315-42)\n",
       "Vendor                                                           Acer\n",
       "Category                                                      Ноутбук\n",
       "Ядро процессора                                                      \n",
       "MaxPrice                                                          xxx\n",
       "Процессор                           Athlon, Ryzen 3, Ryzen 5, Ryzen 7\n",
       "Сенсорный экран                                                  нет \n",
       "Quantaty                                                          557\n",
       "MinPrice                                                          xxx\n",
       "AvgPrice                                                        25615\n",
       "Диагональ экрана                                              15.6 \" \n",
       "Тип видеокарты                                 встроенная, дискретная\n",
       "Видеокарта          AMD Radeon 540X, AMD Radeon RX 540, AMD Radeon...\n",
       "Name: 42, dtype: object"
      ]
     },
     "metadata": {},
     "output_type": "display_data"
    },
    {
     "name": "stdout",
     "output_type": "stream",
     "text": [
      "MSI GL75 9SDK\n"
     ]
    },
    {
     "data": {
      "text/plain": [
       "Href                /product--noutbuk-msi-gl75-9sdk/559751021?show...\n",
       "Name                                                    MSI GL75 9SDK\n",
       "Vendor                                                            MSI\n",
       "Category                                                      Ноутбук\n",
       "Ядро процессора                                          Coffee Lake \n",
       "MaxPrice                                                          xxx\n",
       "Процессор                                          Core i5 / Core i7 \n",
       "Сенсорный экран                                                  нет \n",
       "Quantaty                                                           83\n",
       "MinPrice                                                          xxx\n",
       "AvgPrice                                                        86300\n",
       "Диагональ экрана                                              17.3 \" \n",
       "Тип видеокарты                               дискретная и встроенная \n",
       "Видеокарта                                NVIDIA GeForce GTX 1660 Ti \n",
       "Name: 43, dtype: object"
      ]
     },
     "metadata": {},
     "output_type": "display_data"
    },
    {
     "name": "stdout",
     "output_type": "stream",
     "text": [
      "Lenovo IdeaPad S540 15 Intel\n"
     ]
    },
    {
     "data": {
      "text/plain": [
       "Href                /product--noutbuk-lenovo-ideapad-s540-15-intel...\n",
       "Name                                     Lenovo IdeaPad S540 15 Intel\n",
       "Vendor                                                         Lenovo\n",
       "Category                                                      Ноутбук\n",
       "Ядро процессора                        Whiskey Lake / Whiskey Lake-U \n",
       "MaxPrice                                                          xxx\n",
       "Процессор                                Core i3 / Core i5 / Core i7 \n",
       "Сенсорный экран                                                  нет \n",
       "Quantaty                                                           26\n",
       "MinPrice                                                          xxx\n",
       "AvgPrice                                                        55090\n",
       "Диагональ экрана                                              15.6 \" \n",
       "Тип видеокарты                  встроенная / дискретная и встроенная \n",
       "Видеокарта          Intel UHD Graphics 620 / NVIDIA GeForce GTX 16...\n",
       "Name: 44, dtype: object"
      ]
     },
     "metadata": {},
     "output_type": "display_data"
    },
    {
     "name": "stdout",
     "output_type": "stream",
     "text": [
      "DELL Inspiron 3582\n"
     ]
    },
    {
     "data": {
      "text/plain": [
       "Href                /product--noutbuk-dell-inspiron-3582/449232218...\n",
       "Name                                               DELL Inspiron 3582\n",
       "Vendor                                                           DELL\n",
       "Category                                                      Ноутбук\n",
       "Ядро процессора                                          Gemini Lake \n",
       "MaxPrice                                                          xxx\n",
       "Процессор                                 Celeron, Pentium, Pentium 4\n",
       "Сенсорный экран                                                  нет \n",
       "Quantaty                                                          572\n",
       "MinPrice                                                          xxx\n",
       "AvgPrice                                                        20421\n",
       "Диагональ экрана                                              15.6 \" \n",
       "Тип видеокарты                                            встроенная \n",
       "Видеокарта           Intel UHD Graphics 600 / Intel UHD Graphics 605 \n",
       "Name: 45, dtype: object"
      ]
     },
     "metadata": {},
     "output_type": "display_data"
    },
    {
     "name": "stdout",
     "output_type": "stream",
     "text": [
      "DELL Vostro 7590\n"
     ]
    },
    {
     "data": {
      "text/plain": [
       "Href                /product--noutbuk-dell-vostro-7590/498938033?s...\n",
       "Name                                                 DELL Vostro 7590\n",
       "Vendor                                                           DELL\n",
       "Category                                                      Ноутбук\n",
       "Ядро процессора                                          Coffee Lake \n",
       "MaxPrice                                                          xxx\n",
       "Процессор                                          Core i5 / Core i7 \n",
       "Сенсорный экран                                                  нет \n",
       "Quantaty                                                           37\n",
       "MinPrice                                                          xxx\n",
       "AvgPrice                                                        85765\n",
       "Диагональ экрана                                              15.6 \" \n",
       "Тип видеокарты                    дискретная, дискретная и встроенная\n",
       "Видеокарта          NVIDIA GeForce GTX 1050 / NVIDIA GeForce GTX 1...\n",
       "Name: 46, dtype: object"
      ]
     },
     "metadata": {},
     "output_type": "display_data"
    },
    {
     "name": "stdout",
     "output_type": "stream",
     "text": [
      "ASUS VivoBook 15 X540\n"
     ]
    },
    {
     "data": {
      "text/plain": [
       "Href                /product--noutbuk-asus-vivobook-15-x540/384521...\n",
       "Name                                            ASUS VivoBook 15 X540\n",
       "Vendor                                                           ASUS\n",
       "Category                                                      Ноутбук\n",
       "Ядро процессора                  Apollo Lake / Kaby Lake / Skylake-U \n",
       "MaxPrice                                                          xxx\n",
       "Процессор                      Celeron / Core i3 / Core i5 / Pentium \n",
       "Сенсорный экран                                                  нет \n",
       "Quantaty                                                          122\n",
       "MinPrice                                                          xxx\n",
       "AvgPrice                                                        17120\n",
       "Диагональ экрана                                              15.6 \" \n",
       "Тип видеокарты                               встроенная / дискретная \n",
       "Видеокарта          Intel HD Graphics 500 / Intel HD Graphics 505 ...\n",
       "Name: 47, dtype: object"
      ]
     },
     "metadata": {},
     "output_type": "display_data"
    },
    {
     "name": "stdout",
     "output_type": "stream",
     "text": [
      "MSI Modern 14 A10M\n"
     ]
    },
    {
     "data": {
      "text/plain": [
       "Href                /product--noutbuk-msi-modern-14-a10m/578384005...\n",
       "Name                                               MSI Modern 14 A10M\n",
       "Vendor                                                            MSI\n",
       "Category                                                      Ноутбук\n",
       "Ядро процессора                                         Comet Lake-U \n",
       "MaxPrice                                                          xxx\n",
       "Процессор                                          Core i5 / Core i7 \n",
       "Сенсорный экран                                                  нет \n",
       "Quantaty                                                           40\n",
       "MinPrice                                                          xxx\n",
       "AvgPrice                                                        59000\n",
       "Диагональ экрана                                                14 \" \n",
       "Тип видеокарты                                            встроенная \n",
       "Видеокарта                                    Intel UHD Graphics 620 \n",
       "Name: 48, dtype: object"
      ]
     },
     "metadata": {},
     "output_type": "display_data"
    },
    {
     "name": "stdout",
     "output_type": "stream",
     "text": [
      "Lenovo V330 15\n"
     ]
    },
    {
     "data": {
      "text/plain": [
       "Href                /product--noutbuk-lenovo-v330-15/1974946906?sh...\n",
       "Name                                                   Lenovo V330 15\n",
       "Vendor                                                         Lenovo\n",
       "Category                                                      Ноутбук\n",
       "Ядро процессора                              Kaby Lake / Kaby Lake-R \n",
       "MaxPrice                                                          xxx\n",
       "Процессор                                Core i3 / Core i5 / Core i7 \n",
       "Сенсорный экран                                                  нет \n",
       "Quantaty                                                          243\n",
       "MinPrice                                                          xxx\n",
       "AvgPrice                                                        47641\n",
       "Диагональ экрана                                              15.6 \" \n",
       "Тип видеокарты      встроенная / дискретная / дискретная и встроен...\n",
       "Видеокарта          AMD Radeon 530 / Intel HD Graphics 620 / Intel...\n",
       "Name: 49, dtype: object"
      ]
     },
     "metadata": {},
     "output_type": "display_data"
    },
    {
     "name": "stdout",
     "output_type": "stream",
     "text": [
      "Acer Predator Helios 300 (PH315-52)\n"
     ]
    },
    {
     "data": {
      "text/plain": [
       "Href                /product--noutbuk-acer-predator-helios-300-ph3...\n",
       "Name                              Acer Predator Helios 300 (PH315-52)\n",
       "Vendor                                                           Acer\n",
       "Category                                                      Ноутбук\n",
       "Ядро процессора                                          Coffee Lake \n",
       "MaxPrice                                                          xxx\n",
       "Процессор                                          Core i5 / Core i7 \n",
       "Сенсорный экран                                                  нет \n",
       "Quantaty                                                          310\n",
       "MinPrice                                                          xxx\n",
       "AvgPrice                                                       110990\n",
       "Диагональ экрана                                              15.6 \" \n",
       "Тип видеокарты                    дискретная, дискретная и встроенная\n",
       "Видеокарта          NVIDIA GeForce GTX 1660 Ti / NVIDIA GeForce RT...\n",
       "Name: 50, dtype: object"
      ]
     },
     "metadata": {},
     "output_type": "display_data"
    },
    {
     "name": "stdout",
     "output_type": "stream",
     "text": [
      "ASUS ZenBook 13 UX331UA\n"
     ]
    },
    {
     "ename": "KeyboardInterrupt",
     "evalue": "",
     "output_type": "error",
     "traceback": [
      "\u001b[1;31m---------------------------------------------------------------------------\u001b[0m",
      "\u001b[1;31mKeyboardInterrupt\u001b[0m                         Traceback (most recent call last)",
      "\u001b[1;32m<ipython-input-7-c80378215d1b>\u001b[0m in \u001b[0;36m<module>\u001b[1;34m\u001b[0m\n\u001b[0;32m    275\u001b[0m \u001b[1;33m\u001b[0m\u001b[0m\n\u001b[0;32m    276\u001b[0m \u001b[0mprint\u001b[0m\u001b[1;33m(\u001b[0m\u001b[1;34m'на вход'\u001b[0m\u001b[1;33m,\u001b[0m \u001b[0mlen\u001b[0m\u001b[1;33m(\u001b[0m\u001b[0mdf_for_parse\u001b[0m\u001b[1;33m)\u001b[0m\u001b[1;33m)\u001b[0m\u001b[1;33m\u001b[0m\u001b[1;33m\u001b[0m\u001b[0m\n\u001b[1;32m--> 277\u001b[1;33m \u001b[0mparsed_df\u001b[0m \u001b[1;33m=\u001b[0m \u001b[0mprice_parsing1\u001b[0m\u001b[1;33m(\u001b[0m\u001b[0mdf_for_parse\u001b[0m\u001b[1;33m)\u001b[0m\u001b[1;33m\u001b[0m\u001b[1;33m\u001b[0m\u001b[0m\n\u001b[0m\u001b[0;32m    278\u001b[0m \u001b[0mprint\u001b[0m\u001b[1;33m(\u001b[0m\u001b[1;34m'на выход'\u001b[0m\u001b[1;33m,\u001b[0m \u001b[0mlen\u001b[0m\u001b[1;33m(\u001b[0m\u001b[0mparsed_df\u001b[0m\u001b[1;33m)\u001b[0m\u001b[1;33m)\u001b[0m\u001b[1;33m\u001b[0m\u001b[1;33m\u001b[0m\u001b[0m\n\u001b[0;32m    279\u001b[0m \u001b[1;33m\u001b[0m\u001b[0m\n",
      "\u001b[1;32m<ipython-input-7-c80378215d1b>\u001b[0m in \u001b[0;36mprice_parsing1\u001b[1;34m(df)\u001b[0m\n\u001b[0;32m    258\u001b[0m     \u001b[1;32mtry\u001b[0m\u001b[1;33m:\u001b[0m\u001b[1;33m\u001b[0m\u001b[1;33m\u001b[0m\u001b[0m\n\u001b[0;32m    259\u001b[0m \u001b[1;33m\u001b[0m\u001b[0m\n\u001b[1;32m--> 260\u001b[1;33m         \u001b[0mdf\u001b[0m\u001b[1;33m[\u001b[0m\u001b[0mdf\u001b[0m\u001b[1;33m[\u001b[0m\u001b[1;34m'Quantaty'\u001b[0m\u001b[1;33m]\u001b[0m\u001b[1;33m.\u001b[0m\u001b[0misna\u001b[0m\u001b[1;33m(\u001b[0m\u001b[1;33m)\u001b[0m \u001b[1;33m==\u001b[0m \u001b[1;32mTrue\u001b[0m\u001b[1;33m]\u001b[0m \u001b[1;33m=\u001b[0m \u001b[0mdf\u001b[0m\u001b[1;33m[\u001b[0m\u001b[0mdf\u001b[0m\u001b[1;33m[\u001b[0m\u001b[1;34m'Quantaty'\u001b[0m\u001b[1;33m]\u001b[0m\u001b[1;33m.\u001b[0m\u001b[0misna\u001b[0m\u001b[1;33m(\u001b[0m\u001b[1;33m)\u001b[0m \u001b[1;33m==\u001b[0m \u001b[1;32mTrue\u001b[0m\u001b[1;33m]\u001b[0m\u001b[1;33m.\u001b[0m\u001b[0mapply\u001b[0m\u001b[1;33m(\u001b[0m\u001b[0mmodel_page_parsing_v2\u001b[0m\u001b[1;33m,\u001b[0m \u001b[0maxis\u001b[0m \u001b[1;33m=\u001b[0m \u001b[1;36m1\u001b[0m\u001b[1;33m)\u001b[0m\u001b[1;33m\u001b[0m\u001b[1;33m\u001b[0m\u001b[0m\n\u001b[0m\u001b[0;32m    261\u001b[0m \u001b[1;33m\u001b[0m\u001b[0m\n\u001b[0;32m    262\u001b[0m     \u001b[1;32mexcept\u001b[0m \u001b[0mException\u001b[0m \u001b[1;32mas\u001b[0m \u001b[0mErr\u001b[0m\u001b[1;33m:\u001b[0m\u001b[1;33m\u001b[0m\u001b[1;33m\u001b[0m\u001b[0m\n",
      "\u001b[1;32m~\\Anaconda3\\lib\\site-packages\\pandas\\core\\frame.py\u001b[0m in \u001b[0;36mapply\u001b[1;34m(self, func, axis, broadcast, raw, reduce, result_type, args, **kwds)\u001b[0m\n\u001b[0;32m   6485\u001b[0m                          \u001b[0margs\u001b[0m\u001b[1;33m=\u001b[0m\u001b[0margs\u001b[0m\u001b[1;33m,\u001b[0m\u001b[1;33m\u001b[0m\u001b[1;33m\u001b[0m\u001b[0m\n\u001b[0;32m   6486\u001b[0m                          kwds=kwds)\n\u001b[1;32m-> 6487\u001b[1;33m         \u001b[1;32mreturn\u001b[0m \u001b[0mop\u001b[0m\u001b[1;33m.\u001b[0m\u001b[0mget_result\u001b[0m\u001b[1;33m(\u001b[0m\u001b[1;33m)\u001b[0m\u001b[1;33m\u001b[0m\u001b[1;33m\u001b[0m\u001b[0m\n\u001b[0m\u001b[0;32m   6488\u001b[0m \u001b[1;33m\u001b[0m\u001b[0m\n\u001b[0;32m   6489\u001b[0m     \u001b[1;32mdef\u001b[0m \u001b[0mapplymap\u001b[0m\u001b[1;33m(\u001b[0m\u001b[0mself\u001b[0m\u001b[1;33m,\u001b[0m \u001b[0mfunc\u001b[0m\u001b[1;33m)\u001b[0m\u001b[1;33m:\u001b[0m\u001b[1;33m\u001b[0m\u001b[1;33m\u001b[0m\u001b[0m\n",
      "\u001b[1;32m~\\Anaconda3\\lib\\site-packages\\pandas\\core\\apply.py\u001b[0m in \u001b[0;36mget_result\u001b[1;34m(self)\u001b[0m\n\u001b[0;32m    149\u001b[0m             \u001b[1;32mreturn\u001b[0m \u001b[0mself\u001b[0m\u001b[1;33m.\u001b[0m\u001b[0mapply_raw\u001b[0m\u001b[1;33m(\u001b[0m\u001b[1;33m)\u001b[0m\u001b[1;33m\u001b[0m\u001b[1;33m\u001b[0m\u001b[0m\n\u001b[0;32m    150\u001b[0m \u001b[1;33m\u001b[0m\u001b[0m\n\u001b[1;32m--> 151\u001b[1;33m         \u001b[1;32mreturn\u001b[0m \u001b[0mself\u001b[0m\u001b[1;33m.\u001b[0m\u001b[0mapply_standard\u001b[0m\u001b[1;33m(\u001b[0m\u001b[1;33m)\u001b[0m\u001b[1;33m\u001b[0m\u001b[1;33m\u001b[0m\u001b[0m\n\u001b[0m\u001b[0;32m    152\u001b[0m \u001b[1;33m\u001b[0m\u001b[0m\n\u001b[0;32m    153\u001b[0m     \u001b[1;32mdef\u001b[0m \u001b[0mapply_empty_result\u001b[0m\u001b[1;33m(\u001b[0m\u001b[0mself\u001b[0m\u001b[1;33m)\u001b[0m\u001b[1;33m:\u001b[0m\u001b[1;33m\u001b[0m\u001b[1;33m\u001b[0m\u001b[0m\n",
      "\u001b[1;32m~\\Anaconda3\\lib\\site-packages\\pandas\\core\\apply.py\u001b[0m in \u001b[0;36mapply_standard\u001b[1;34m(self)\u001b[0m\n\u001b[0;32m    255\u001b[0m \u001b[1;33m\u001b[0m\u001b[0m\n\u001b[0;32m    256\u001b[0m         \u001b[1;31m# compute the result using the series generator\u001b[0m\u001b[1;33m\u001b[0m\u001b[1;33m\u001b[0m\u001b[1;33m\u001b[0m\u001b[0m\n\u001b[1;32m--> 257\u001b[1;33m         \u001b[0mself\u001b[0m\u001b[1;33m.\u001b[0m\u001b[0mapply_series_generator\u001b[0m\u001b[1;33m(\u001b[0m\u001b[1;33m)\u001b[0m\u001b[1;33m\u001b[0m\u001b[1;33m\u001b[0m\u001b[0m\n\u001b[0m\u001b[0;32m    258\u001b[0m \u001b[1;33m\u001b[0m\u001b[0m\n\u001b[0;32m    259\u001b[0m         \u001b[1;31m# wrap results\u001b[0m\u001b[1;33m\u001b[0m\u001b[1;33m\u001b[0m\u001b[1;33m\u001b[0m\u001b[0m\n",
      "\u001b[1;32m~\\Anaconda3\\lib\\site-packages\\pandas\\core\\apply.py\u001b[0m in \u001b[0;36mapply_series_generator\u001b[1;34m(self)\u001b[0m\n\u001b[0;32m    284\u001b[0m             \u001b[1;32mtry\u001b[0m\u001b[1;33m:\u001b[0m\u001b[1;33m\u001b[0m\u001b[1;33m\u001b[0m\u001b[0m\n\u001b[0;32m    285\u001b[0m                 \u001b[1;32mfor\u001b[0m \u001b[0mi\u001b[0m\u001b[1;33m,\u001b[0m \u001b[0mv\u001b[0m \u001b[1;32min\u001b[0m \u001b[0menumerate\u001b[0m\u001b[1;33m(\u001b[0m\u001b[0mseries_gen\u001b[0m\u001b[1;33m)\u001b[0m\u001b[1;33m:\u001b[0m\u001b[1;33m\u001b[0m\u001b[1;33m\u001b[0m\u001b[0m\n\u001b[1;32m--> 286\u001b[1;33m                     \u001b[0mresults\u001b[0m\u001b[1;33m[\u001b[0m\u001b[0mi\u001b[0m\u001b[1;33m]\u001b[0m \u001b[1;33m=\u001b[0m \u001b[0mself\u001b[0m\u001b[1;33m.\u001b[0m\u001b[0mf\u001b[0m\u001b[1;33m(\u001b[0m\u001b[0mv\u001b[0m\u001b[1;33m)\u001b[0m\u001b[1;33m\u001b[0m\u001b[1;33m\u001b[0m\u001b[0m\n\u001b[0m\u001b[0;32m    287\u001b[0m                     \u001b[0mkeys\u001b[0m\u001b[1;33m.\u001b[0m\u001b[0mappend\u001b[0m\u001b[1;33m(\u001b[0m\u001b[0mv\u001b[0m\u001b[1;33m.\u001b[0m\u001b[0mname\u001b[0m\u001b[1;33m)\u001b[0m\u001b[1;33m\u001b[0m\u001b[1;33m\u001b[0m\u001b[0m\n\u001b[0;32m    288\u001b[0m             \u001b[1;32mexcept\u001b[0m \u001b[0mException\u001b[0m \u001b[1;32mas\u001b[0m \u001b[0me\u001b[0m\u001b[1;33m:\u001b[0m\u001b[1;33m\u001b[0m\u001b[1;33m\u001b[0m\u001b[0m\n",
      "\u001b[1;32m<ipython-input-7-c80378215d1b>\u001b[0m in \u001b[0;36mmodel_page_parsing_v2\u001b[1;34m(model_df)\u001b[0m\n\u001b[0;32m    200\u001b[0m                             \u001b[0moffers_href\u001b[0m \u001b[1;33m=\u001b[0m \u001b[1;34m'https://market.yandex.ru'\u001b[0m \u001b[1;33m+\u001b[0m \u001b[0mstr\u001b[0m\u001b[1;33m(\u001b[0m\u001b[0mprices_count_cell\u001b[0m\u001b[1;33m.\u001b[0m\u001b[0mfind\u001b[0m\u001b[1;33m(\u001b[0m\u001b[1;34m'a'\u001b[0m\u001b[1;33m)\u001b[0m\u001b[1;33m.\u001b[0m\u001b[0mget\u001b[0m\u001b[1;33m(\u001b[0m\u001b[1;34m'href'\u001b[0m\u001b[1;33m)\u001b[0m\u001b[1;33m)\u001b[0m\u001b[1;33m\u001b[0m\u001b[1;33m\u001b[0m\u001b[0m\n\u001b[0;32m    201\u001b[0m                             \u001b[0mref_href\u001b[0m \u001b[1;33m=\u001b[0m \u001b[1;34m'https://market.yandex.ru'\u001b[0m \u001b[1;33m+\u001b[0m \u001b[0mmodel_df\u001b[0m\u001b[1;33m[\u001b[0m\u001b[1;34m'Href'\u001b[0m\u001b[1;33m]\u001b[0m\u001b[1;33m\u001b[0m\u001b[1;33m\u001b[0m\u001b[0m\n\u001b[1;32m--> 202\u001b[1;33m                             \u001b[0moffers_price_list\u001b[0m \u001b[1;33m=\u001b[0m \u001b[0mpd\u001b[0m\u001b[1;33m.\u001b[0m\u001b[0mSeries\u001b[0m\u001b[1;33m(\u001b[0m\u001b[0moffers_prices_harvest\u001b[0m\u001b[1;33m(\u001b[0m\u001b[0moffers_href\u001b[0m\u001b[1;33m,\u001b[0m \u001b[0mref_href\u001b[0m\u001b[1;33m,\u001b[0m \u001b[0mmodel_df\u001b[0m\u001b[1;33m[\u001b[0m\u001b[1;34m'Quantaty'\u001b[0m\u001b[1;33m]\u001b[0m\u001b[1;33m)\u001b[0m\u001b[1;33m)\u001b[0m\u001b[1;33m\u001b[0m\u001b[1;33m\u001b[0m\u001b[0m\n\u001b[0m\u001b[0;32m    203\u001b[0m                             \u001b[0mmodel_df\u001b[0m\u001b[1;33m[\u001b[0m\u001b[1;34m'AvgPrice'\u001b[0m\u001b[1;33m]\u001b[0m \u001b[1;33m=\u001b[0m \u001b[0moffers_price_list\u001b[0m\u001b[1;33m.\u001b[0m\u001b[0mmean\u001b[0m\u001b[1;33m(\u001b[0m\u001b[1;33m)\u001b[0m\u001b[1;33m\u001b[0m\u001b[1;33m\u001b[0m\u001b[0m\n\u001b[0;32m    204\u001b[0m                             \u001b[0mmodel_df\u001b[0m\u001b[1;33m[\u001b[0m\u001b[1;34m'MinPrice'\u001b[0m\u001b[1;33m]\u001b[0m \u001b[1;33m=\u001b[0m \u001b[0moffers_price_list\u001b[0m\u001b[1;33m.\u001b[0m\u001b[0mmin\u001b[0m\u001b[1;33m(\u001b[0m\u001b[1;33m)\u001b[0m\u001b[1;33m\u001b[0m\u001b[1;33m\u001b[0m\u001b[0m\n",
      "\u001b[1;32m<ipython-input-7-c80378215d1b>\u001b[0m in \u001b[0;36moffers_prices_harvest\u001b[1;34m(offers_href, ref_href, offers_q)\u001b[0m\n\u001b[0;32m     92\u001b[0m                                         cookies = cookies())\n\u001b[0;32m     93\u001b[0m             \u001b[1;32mif\u001b[0m \u001b[0moffers_response\u001b[0m\u001b[1;33m.\u001b[0m\u001b[0mstatus_code\u001b[0m \u001b[1;33m==\u001b[0m \u001b[1;36m200\u001b[0m\u001b[1;33m:\u001b[0m\u001b[1;33m\u001b[0m\u001b[1;33m\u001b[0m\u001b[0m\n\u001b[1;32m---> 94\u001b[1;33m                 \u001b[0moffers_page\u001b[0m \u001b[1;33m=\u001b[0m \u001b[0mBeautifulSoup\u001b[0m\u001b[1;33m(\u001b[0m\u001b[0moffers_response\u001b[0m\u001b[1;33m.\u001b[0m\u001b[0mtext\u001b[0m\u001b[1;33m,\u001b[0m\u001b[1;34m'html.parser'\u001b[0m\u001b[1;33m)\u001b[0m\u001b[1;33m\u001b[0m\u001b[1;33m\u001b[0m\u001b[0m\n\u001b[0m\u001b[0;32m     95\u001b[0m \u001b[1;33m\u001b[0m\u001b[0m\n\u001b[0;32m     96\u001b[0m                 \u001b[0mpage_prices\u001b[0m \u001b[1;33m=\u001b[0m \u001b[0moffers_page\u001b[0m\u001b[1;33m.\u001b[0m\u001b[0mfind_all\u001b[0m\u001b[1;33m(\u001b[0m\u001b[1;34m'div'\u001b[0m\u001b[1;33m,\u001b[0m \u001b[0mclass_\u001b[0m\u001b[1;33m=\u001b[0m\u001b[1;34m'price'\u001b[0m\u001b[1;33m)\u001b[0m\u001b[1;33m\u001b[0m\u001b[1;33m\u001b[0m\u001b[0m\n",
      "\u001b[1;32m~\\Anaconda3\\lib\\site-packages\\bs4\\__init__.py\u001b[0m in \u001b[0;36m__init__\u001b[1;34m(self, markup, features, builder, parse_only, from_encoding, exclude_encodings, **kwargs)\u001b[0m\n\u001b[0;32m    279\u001b[0m             \u001b[0mself\u001b[0m\u001b[1;33m.\u001b[0m\u001b[0mreset\u001b[0m\u001b[1;33m(\u001b[0m\u001b[1;33m)\u001b[0m\u001b[1;33m\u001b[0m\u001b[1;33m\u001b[0m\u001b[0m\n\u001b[0;32m    280\u001b[0m             \u001b[1;32mtry\u001b[0m\u001b[1;33m:\u001b[0m\u001b[1;33m\u001b[0m\u001b[1;33m\u001b[0m\u001b[0m\n\u001b[1;32m--> 281\u001b[1;33m                 \u001b[0mself\u001b[0m\u001b[1;33m.\u001b[0m\u001b[0m_feed\u001b[0m\u001b[1;33m(\u001b[0m\u001b[1;33m)\u001b[0m\u001b[1;33m\u001b[0m\u001b[1;33m\u001b[0m\u001b[0m\n\u001b[0m\u001b[0;32m    282\u001b[0m                 \u001b[1;32mbreak\u001b[0m\u001b[1;33m\u001b[0m\u001b[1;33m\u001b[0m\u001b[0m\n\u001b[0;32m    283\u001b[0m             \u001b[1;32mexcept\u001b[0m \u001b[0mParserRejectedMarkup\u001b[0m\u001b[1;33m:\u001b[0m\u001b[1;33m\u001b[0m\u001b[1;33m\u001b[0m\u001b[0m\n",
      "\u001b[1;32m~\\Anaconda3\\lib\\site-packages\\bs4\\__init__.py\u001b[0m in \u001b[0;36m_feed\u001b[1;34m(self)\u001b[0m\n\u001b[0;32m    340\u001b[0m         \u001b[0mself\u001b[0m\u001b[1;33m.\u001b[0m\u001b[0mbuilder\u001b[0m\u001b[1;33m.\u001b[0m\u001b[0mreset\u001b[0m\u001b[1;33m(\u001b[0m\u001b[1;33m)\u001b[0m\u001b[1;33m\u001b[0m\u001b[1;33m\u001b[0m\u001b[0m\n\u001b[0;32m    341\u001b[0m \u001b[1;33m\u001b[0m\u001b[0m\n\u001b[1;32m--> 342\u001b[1;33m         \u001b[0mself\u001b[0m\u001b[1;33m.\u001b[0m\u001b[0mbuilder\u001b[0m\u001b[1;33m.\u001b[0m\u001b[0mfeed\u001b[0m\u001b[1;33m(\u001b[0m\u001b[0mself\u001b[0m\u001b[1;33m.\u001b[0m\u001b[0mmarkup\u001b[0m\u001b[1;33m)\u001b[0m\u001b[1;33m\u001b[0m\u001b[1;33m\u001b[0m\u001b[0m\n\u001b[0m\u001b[0;32m    343\u001b[0m         \u001b[1;31m# Close out any unfinished strings and close all the open tags.\u001b[0m\u001b[1;33m\u001b[0m\u001b[1;33m\u001b[0m\u001b[1;33m\u001b[0m\u001b[0m\n\u001b[0;32m    344\u001b[0m         \u001b[0mself\u001b[0m\u001b[1;33m.\u001b[0m\u001b[0mendData\u001b[0m\u001b[1;33m(\u001b[0m\u001b[1;33m)\u001b[0m\u001b[1;33m\u001b[0m\u001b[1;33m\u001b[0m\u001b[0m\n",
      "\u001b[1;32m~\\Anaconda3\\lib\\site-packages\\bs4\\builder\\_htmlparser.py\u001b[0m in \u001b[0;36mfeed\u001b[1;34m(self, markup)\u001b[0m\n\u001b[0;32m    245\u001b[0m         \u001b[0mparser\u001b[0m\u001b[1;33m.\u001b[0m\u001b[0msoup\u001b[0m \u001b[1;33m=\u001b[0m \u001b[0mself\u001b[0m\u001b[1;33m.\u001b[0m\u001b[0msoup\u001b[0m\u001b[1;33m\u001b[0m\u001b[1;33m\u001b[0m\u001b[0m\n\u001b[0;32m    246\u001b[0m         \u001b[1;32mtry\u001b[0m\u001b[1;33m:\u001b[0m\u001b[1;33m\u001b[0m\u001b[1;33m\u001b[0m\u001b[0m\n\u001b[1;32m--> 247\u001b[1;33m             \u001b[0mparser\u001b[0m\u001b[1;33m.\u001b[0m\u001b[0mfeed\u001b[0m\u001b[1;33m(\u001b[0m\u001b[0mmarkup\u001b[0m\u001b[1;33m)\u001b[0m\u001b[1;33m\u001b[0m\u001b[1;33m\u001b[0m\u001b[0m\n\u001b[0m\u001b[0;32m    248\u001b[0m             \u001b[0mparser\u001b[0m\u001b[1;33m.\u001b[0m\u001b[0mclose\u001b[0m\u001b[1;33m(\u001b[0m\u001b[1;33m)\u001b[0m\u001b[1;33m\u001b[0m\u001b[1;33m\u001b[0m\u001b[0m\n\u001b[0;32m    249\u001b[0m         \u001b[1;32mexcept\u001b[0m \u001b[0mHTMLParseError\u001b[0m \u001b[1;32mas\u001b[0m \u001b[0me\u001b[0m\u001b[1;33m:\u001b[0m\u001b[1;33m\u001b[0m\u001b[1;33m\u001b[0m\u001b[0m\n",
      "\u001b[1;32m~\\Anaconda3\\lib\\html\\parser.py\u001b[0m in \u001b[0;36mfeed\u001b[1;34m(self, data)\u001b[0m\n\u001b[0;32m    109\u001b[0m         \"\"\"\n\u001b[0;32m    110\u001b[0m         \u001b[0mself\u001b[0m\u001b[1;33m.\u001b[0m\u001b[0mrawdata\u001b[0m \u001b[1;33m=\u001b[0m \u001b[0mself\u001b[0m\u001b[1;33m.\u001b[0m\u001b[0mrawdata\u001b[0m \u001b[1;33m+\u001b[0m \u001b[0mdata\u001b[0m\u001b[1;33m\u001b[0m\u001b[1;33m\u001b[0m\u001b[0m\n\u001b[1;32m--> 111\u001b[1;33m         \u001b[0mself\u001b[0m\u001b[1;33m.\u001b[0m\u001b[0mgoahead\u001b[0m\u001b[1;33m(\u001b[0m\u001b[1;36m0\u001b[0m\u001b[1;33m)\u001b[0m\u001b[1;33m\u001b[0m\u001b[1;33m\u001b[0m\u001b[0m\n\u001b[0m\u001b[0;32m    112\u001b[0m \u001b[1;33m\u001b[0m\u001b[0m\n\u001b[0;32m    113\u001b[0m     \u001b[1;32mdef\u001b[0m \u001b[0mclose\u001b[0m\u001b[1;33m(\u001b[0m\u001b[0mself\u001b[0m\u001b[1;33m)\u001b[0m\u001b[1;33m:\u001b[0m\u001b[1;33m\u001b[0m\u001b[1;33m\u001b[0m\u001b[0m\n",
      "\u001b[1;32m~\\Anaconda3\\lib\\html\\parser.py\u001b[0m in \u001b[0;36mgoahead\u001b[1;34m(self, end)\u001b[0m\n\u001b[0;32m    169\u001b[0m             \u001b[1;32mif\u001b[0m \u001b[0mstartswith\u001b[0m\u001b[1;33m(\u001b[0m\u001b[1;34m'<'\u001b[0m\u001b[1;33m,\u001b[0m \u001b[0mi\u001b[0m\u001b[1;33m)\u001b[0m\u001b[1;33m:\u001b[0m\u001b[1;33m\u001b[0m\u001b[1;33m\u001b[0m\u001b[0m\n\u001b[0;32m    170\u001b[0m                 \u001b[1;32mif\u001b[0m \u001b[0mstarttagopen\u001b[0m\u001b[1;33m.\u001b[0m\u001b[0mmatch\u001b[0m\u001b[1;33m(\u001b[0m\u001b[0mrawdata\u001b[0m\u001b[1;33m,\u001b[0m \u001b[0mi\u001b[0m\u001b[1;33m)\u001b[0m\u001b[1;33m:\u001b[0m \u001b[1;31m# < + letter\u001b[0m\u001b[1;33m\u001b[0m\u001b[1;33m\u001b[0m\u001b[0m\n\u001b[1;32m--> 171\u001b[1;33m                     \u001b[0mk\u001b[0m \u001b[1;33m=\u001b[0m \u001b[0mself\u001b[0m\u001b[1;33m.\u001b[0m\u001b[0mparse_starttag\u001b[0m\u001b[1;33m(\u001b[0m\u001b[0mi\u001b[0m\u001b[1;33m)\u001b[0m\u001b[1;33m\u001b[0m\u001b[1;33m\u001b[0m\u001b[0m\n\u001b[0m\u001b[0;32m    172\u001b[0m                 \u001b[1;32melif\u001b[0m \u001b[0mstartswith\u001b[0m\u001b[1;33m(\u001b[0m\u001b[1;34m\"</\"\u001b[0m\u001b[1;33m,\u001b[0m \u001b[0mi\u001b[0m\u001b[1;33m)\u001b[0m\u001b[1;33m:\u001b[0m\u001b[1;33m\u001b[0m\u001b[1;33m\u001b[0m\u001b[0m\n\u001b[0;32m    173\u001b[0m                     \u001b[0mk\u001b[0m \u001b[1;33m=\u001b[0m \u001b[0mself\u001b[0m\u001b[1;33m.\u001b[0m\u001b[0mparse_endtag\u001b[0m\u001b[1;33m(\u001b[0m\u001b[0mi\u001b[0m\u001b[1;33m)\u001b[0m\u001b[1;33m\u001b[0m\u001b[1;33m\u001b[0m\u001b[0m\n",
      "\u001b[1;32m~\\Anaconda3\\lib\\html\\parser.py\u001b[0m in \u001b[0;36mparse_starttag\u001b[1;34m(self, i)\u001b[0m\n\u001b[0;32m    324\u001b[0m                 \u001b[0mattrvalue\u001b[0m \u001b[1;33m=\u001b[0m \u001b[0mattrvalue\u001b[0m\u001b[1;33m[\u001b[0m\u001b[1;36m1\u001b[0m\u001b[1;33m:\u001b[0m\u001b[1;33m-\u001b[0m\u001b[1;36m1\u001b[0m\u001b[1;33m]\u001b[0m\u001b[1;33m\u001b[0m\u001b[1;33m\u001b[0m\u001b[0m\n\u001b[0;32m    325\u001b[0m             \u001b[1;32mif\u001b[0m \u001b[0mattrvalue\u001b[0m\u001b[1;33m:\u001b[0m\u001b[1;33m\u001b[0m\u001b[1;33m\u001b[0m\u001b[0m\n\u001b[1;32m--> 326\u001b[1;33m                 \u001b[0mattrvalue\u001b[0m \u001b[1;33m=\u001b[0m \u001b[0munescape\u001b[0m\u001b[1;33m(\u001b[0m\u001b[0mattrvalue\u001b[0m\u001b[1;33m)\u001b[0m\u001b[1;33m\u001b[0m\u001b[1;33m\u001b[0m\u001b[0m\n\u001b[0m\u001b[0;32m    327\u001b[0m             \u001b[0mattrs\u001b[0m\u001b[1;33m.\u001b[0m\u001b[0mappend\u001b[0m\u001b[1;33m(\u001b[0m\u001b[1;33m(\u001b[0m\u001b[0mattrname\u001b[0m\u001b[1;33m.\u001b[0m\u001b[0mlower\u001b[0m\u001b[1;33m(\u001b[0m\u001b[1;33m)\u001b[0m\u001b[1;33m,\u001b[0m \u001b[0mattrvalue\u001b[0m\u001b[1;33m)\u001b[0m\u001b[1;33m)\u001b[0m\u001b[1;33m\u001b[0m\u001b[1;33m\u001b[0m\u001b[0m\n\u001b[0;32m    328\u001b[0m             \u001b[0mk\u001b[0m \u001b[1;33m=\u001b[0m \u001b[0mm\u001b[0m\u001b[1;33m.\u001b[0m\u001b[0mend\u001b[0m\u001b[1;33m(\u001b[0m\u001b[1;33m)\u001b[0m\u001b[1;33m\u001b[0m\u001b[1;33m\u001b[0m\u001b[0m\n",
      "\u001b[1;32m~\\Anaconda3\\lib\\html\\__init__.py\u001b[0m in \u001b[0;36munescape\u001b[1;34m(s)\u001b[0m\n\u001b[0;32m    130\u001b[0m     \u001b[1;32mif\u001b[0m \u001b[1;34m'&'\u001b[0m \u001b[1;32mnot\u001b[0m \u001b[1;32min\u001b[0m \u001b[0ms\u001b[0m\u001b[1;33m:\u001b[0m\u001b[1;33m\u001b[0m\u001b[1;33m\u001b[0m\u001b[0m\n\u001b[0;32m    131\u001b[0m         \u001b[1;32mreturn\u001b[0m \u001b[0ms\u001b[0m\u001b[1;33m\u001b[0m\u001b[1;33m\u001b[0m\u001b[0m\n\u001b[1;32m--> 132\u001b[1;33m     \u001b[1;32mreturn\u001b[0m \u001b[0m_charref\u001b[0m\u001b[1;33m.\u001b[0m\u001b[0msub\u001b[0m\u001b[1;33m(\u001b[0m\u001b[0m_replace_charref\u001b[0m\u001b[1;33m,\u001b[0m \u001b[0ms\u001b[0m\u001b[1;33m)\u001b[0m\u001b[1;33m\u001b[0m\u001b[1;33m\u001b[0m\u001b[0m\n\u001b[0m",
      "\u001b[1;32m~\\Anaconda3\\lib\\html\\__init__.py\u001b[0m in \u001b[0;36m_replace_charref\u001b[1;34m(s)\u001b[0m\n\u001b[0;32m    107\u001b[0m         \u001b[1;31m# named charref\u001b[0m\u001b[1;33m\u001b[0m\u001b[1;33m\u001b[0m\u001b[1;33m\u001b[0m\u001b[0m\n\u001b[0;32m    108\u001b[0m         \u001b[1;32mif\u001b[0m \u001b[0ms\u001b[0m \u001b[1;32min\u001b[0m \u001b[0m_html5\u001b[0m\u001b[1;33m:\u001b[0m\u001b[1;33m\u001b[0m\u001b[1;33m\u001b[0m\u001b[0m\n\u001b[1;32m--> 109\u001b[1;33m             \u001b[1;32mreturn\u001b[0m \u001b[0m_html5\u001b[0m\u001b[1;33m[\u001b[0m\u001b[0ms\u001b[0m\u001b[1;33m]\u001b[0m\u001b[1;33m\u001b[0m\u001b[1;33m\u001b[0m\u001b[0m\n\u001b[0m\u001b[0;32m    110\u001b[0m         \u001b[1;31m# find the longest matching name (as defined by the standard)\u001b[0m\u001b[1;33m\u001b[0m\u001b[1;33m\u001b[0m\u001b[1;33m\u001b[0m\u001b[0m\n\u001b[0;32m    111\u001b[0m         \u001b[1;32mfor\u001b[0m \u001b[0mx\u001b[0m \u001b[1;32min\u001b[0m \u001b[0mrange\u001b[0m\u001b[1;33m(\u001b[0m\u001b[0mlen\u001b[0m\u001b[1;33m(\u001b[0m\u001b[0ms\u001b[0m\u001b[1;33m)\u001b[0m\u001b[1;33m-\u001b[0m\u001b[1;36m1\u001b[0m\u001b[1;33m,\u001b[0m \u001b[1;36m1\u001b[0m\u001b[1;33m,\u001b[0m \u001b[1;33m-\u001b[0m\u001b[1;36m1\u001b[0m\u001b[1;33m)\u001b[0m\u001b[1;33m:\u001b[0m\u001b[1;33m\u001b[0m\u001b[1;33m\u001b[0m\u001b[0m\n",
      "\u001b[1;31mKeyboardInterrupt\u001b[0m: "
     ]
    }
   ],
   "source": [
    "#парсим цены\n",
    "#'Name' - название модели оно же является внешними ключем к df\n",
    "#'Quantaty' - число цен на странице модели\n",
    "#'MinPrice','AvgPrice','MaxPrice' - цены. \n",
    "\n",
    "\n",
    "import requests\n",
    "from bs4 import BeautifulSoup \n",
    "import time\n",
    "import pandas as pd\n",
    "from datetime import datetime\n",
    "import random\n",
    "import pdb\n",
    "from urllib.parse   import quote\n",
    "\n",
    "\n",
    "app_count = False\n",
    "\n",
    "def cookies():\n",
    "    \n",
    "    cookies = {\n",
    "            'yandexuid' : '1316442951370867155', \n",
    "            'fuid01' : '4f310da92e0e9ff0.vHkMwDo78qH5TTmHx-stTeCpjL9q0oCG-kHm-t1yw00rSnf7Uxj5eqXaFjpO-Ji3kSQu-TbS-duDcL4tBTDDknJm0Xp2PwtEYgzI74M0t3XEplZr69TXugVdbykMuUYo; yp=1571397397.shlos.0#1600341397.p_sw.1568805397#1572440968.ygu.1#1585616974.szm.1:1680x1050:1614x887', \n",
    "            '_ym_uid' : '1478001885185024594',\n",
    "            'i' : '8k0m5URcQTs/D8+3VhGAv5WDga2dnppzBVV1QJC90LIBHvPMRGJZCfTnVJ0n+Mn0B1Jzd5hn+0ZsECAkAdHOR+LT58Y=',\n",
    "            'mda':'0', \n",
    "            'my' : 'YwA=', \n",
    "            'yabs' : '-frequency=/4/0000000000000000/XtroS9mt81g-FMsSDoUqLB1md3SW/', \n",
    "            '_ym_isad' : '=2', \n",
    "            'yandex_gid' : '213', \n",
    "            'font_loaded' : 'YSv1', \n",
    "            '_ym_wasSynced' : '%7B%22time%22%3A1569848959698%2C%22params%22%3A%7B%22eu%22%3A0%7D%2C%22bkParams%22%3A%7B%7D%7D', \n",
    "            '_ym_d' : '1569848960', \n",
    "            '_ym_visorc_160656':'b', \n",
    "            '_ym_visorc_45411513':'b', \n",
    "            'markethistory':'<h><cm>6427101-9238862</cm><cm>6427101-8538765</cm><m>106905-10467479</m><m>432460-7691987</m><c>7156311</c></h>', \n",
    "            'cmp-merge':'true', \n",
    "            'reviews-merge':'true', \n",
    "            'head-banner-sovetnik':'%7B%22closingCounter%22%3A0%2C%22showingCounter%22%3A1%2C%22shownAfterClicked%22%3Afalse%2C%22isClicked%22%3Afalse%7D; head-banner-sovetnik-info=%7B%22closingCounter%22%3A0%2C%22showingCounter%22%3A1%2C%22shownAfterClicked%22%3Afalse%2C%22isClicked%22%3Afalse%7D', \n",
    "            'head-banner':'%7B%22closingCounter%22%3A0%2C%22showingCounter%22%3A526%2C%22shownAfterClicked%22%3Afalse%2C%22isClicked%22%3Afalse%7D; currentRegionId=213', \n",
    "            'currentRegionName':'%D0%9C%D0%BE%D1%81%D0%BA%D0%B2%D1%83', \n",
    "            'pof':'%7B%22clid%22%3A%5B%22505%22%5D%2C%22mclid%22%3Anull%2C%22distr_type%22%3Anull%2C%22vid%22%3Anull%2C%22opp%22%3Anull%7D', \n",
    "            'cpa':'%7B%22clid%22%3A%5B%22505%22%5D%2C%22mclid%22%3Anull%2C%22distr_type%22%3Anull%2C%22vid%22%3Anull%2C%22opp%22%3Anull%7D; visits=1569848974-1569848974-1569848974; parent_reqid_seq=d42a92a5871ff61374b913eb3f4ccf8f%2Cce5b53e8a009fae941bde9127ffccf95%2C07c761fd008a9de5656c84921bf0aa02; utm_campaign=face_abovesearch', \n",
    "            'utm_source' : 'face_abovesearch', \n",
    "            'uid':'AABbhl2R/o6riwEABZ1KAg==', \n",
    "            'js':'1', \n",
    "            'first_visit_time' : '2019-09-30T16%3A09%3A25%2B03%3A00', \n",
    "            'HISTORY_UNAUTH_SESSION':'true', \n",
    "            'fonts-loaded':'1', \n",
    "            'ugcp':'1'\n",
    "            }   \n",
    "    \n",
    "    return cookies\n",
    "\n",
    "def header(referer):\n",
    "   \n",
    "    header = dict()\n",
    "#    header['Referer'] = 'https://market.yandex.ru/search' + '?text=' + quote(referer) + '&onstock=1&local-offers-first=0'\n",
    "    header['Referer'] = quote(referer)\n",
    "    header['Accept'] = 'text/html,application/xhtml+xml,application/xml;q=0.9,image/webp,image/apng,*/*;q=0.8,application/signed-exchange;v=b3'\n",
    "    header['Accept-Encoding']: 'gzip, deflate, br'\n",
    "    header['Accept-Language'] = 'ru-RU,ru;q=0.9,en-US;q=0.8,en;q=0.7'\n",
    "    header['Connection'] = 'keep-alive'\n",
    "    header['Sec-Fetch-Mode']: 'navigate'\n",
    "    header['Sec-Fetch-Site']: 'same-origin'\n",
    "    header['Sec-Fetch-User:']:'?1'\n",
    "    header['Upgrade-Insecure-Requests']: '1'\n",
    "    header['User-Agent']: 'Mozilla/5.0 (Windows NT 6.1; Win64; x64) AppleWebKit/537.36 (KHTML, like Gecko) Chrome/77.0.3865.90 Safari/537.36'\n",
    "    \n",
    "    return header\n",
    "\n",
    "def proxies(count):\n",
    "    \n",
    "    return ip_port\n",
    "\n",
    "def offers_prices_harvest(offers_href, ref_href, offers_q):\n",
    "#Забор списка цен из предложений    \n",
    "    pages = (offers_q // 10) + 1\n",
    "    page = 1\n",
    "    \n",
    "    prices_list = list()\n",
    "    \n",
    "    page_href = offers_href\n",
    "    new_ref_href = ref_href\n",
    "    \n",
    "    pages_is_ok = True\n",
    "    \n",
    "    while pages_is_ok == True:\n",
    "        try:\n",
    "            offers_response = requests.get(page_href, \n",
    "                                        headers = header(new_ref_href), \n",
    "                                        cookies = cookies())\n",
    "            if offers_response.status_code == 200:\n",
    "                offers_page = BeautifulSoup(offers_response.text,'html.parser')\n",
    "                \n",
    "                page_prices = offers_page.find_all('div', class_='price')\n",
    "                print(page_prices[0], page_prices[0].text)\n",
    "      \n",
    "          \n",
    "                page_price_list = [int(i.text.replace(' ','').replace('₽','')) for i in page_prices]\n",
    "           \n",
    "                \n",
    "                prices_list += page_price_list\n",
    "                \n",
    "\n",
    "        except Exception as Err:\n",
    "            print (Err)\n",
    "        \n",
    "        page += 1\n",
    "        new_ref_href = page_href\n",
    "        page_href = offers_href + '&page=' + str(page)\n",
    "        \n",
    "        if offers_page.find('a', class_='button button_size_s button_theme_pseudo n-pager__button-next i-bem n-smart-link') is None:\n",
    "            pages_is_ok = False\n",
    "        \n",
    "    \n",
    "    return prices_list  \n",
    "\n",
    "def ttx_harvest(ttx_list, ttx_href, ref_href):\n",
    "#Сбор итребуемых ТТХ    \n",
    "    ttx_dict = dict()\n",
    "    for i in ttx_list:\n",
    "        ttx_dict[i] = ''\n",
    "   \n",
    "    try:\n",
    "        response = requests.get(ttx_href, headers = header(ref_href), cookies = cookies())\n",
    "        if response.status_code -- 200:\n",
    "            page = BeautifulSoup(response.text,'html.parser')\n",
    "        #вся таблица характеристик\n",
    "        ttx_table = page.find('div', class_='layout__col layout__col_size_p75 n-product-spec-wrap')\n",
    "        ttx_table_rows = ttx_table.find_all('dl', class_='n-product-spec')\n",
    "\n",
    "        for dl in ttx_table_rows:\n",
    "            dl_name = dl.find('span', class_='n-product-spec__name-inner').text\n",
    "            if dl_name in ttx_list:\n",
    "                specs_value = dl.find('span', class_='n-product-spec__value-inner').text\n",
    "                #Забираем только самые полные характеристики в случае дубляжа категорий в таблице\n",
    "                if len(ttx_dict[dl_name]) < len(specs_value):\n",
    "                    ttx_dict[dl_name] = specs_value\n",
    "    \n",
    "    except Exception as Err_response:\n",
    "           print (Err_response)\n",
    "    \n",
    "    \n",
    "    return ttx_dict\n",
    "    \n",
    "    \n",
    "\n",
    "\n",
    "def model_page_parsing_v2(model_df):\n",
    "    \n",
    "    global app_count\n",
    "    \n",
    "    if app_count:\n",
    "        print(model_df['Name'])\n",
    "        #pdb.set_trace()\n",
    "        try:\n",
    "            #byte_str = bytes(model_df['Name'],'UTF-8')\n",
    "            \n",
    "            response = requests.get('https://market.yandex.ru' + model_df['Href'], \n",
    "                                    headers = header('https://market.yandex.ru/search' + '?text=' + model_df['Name'] + '&onstock=1&local-offers-first=0'), \n",
    "                                    cookies = cookies())\n",
    "            if response.status_code == 200:\n",
    "                \n",
    "                page = BeautifulSoup(response.text,'html.parser')\n",
    "                title = page.find('title')\n",
    "                \n",
    "                if model_df['Name'] in title.text: \n",
    "                    \n",
    "                    \n",
    "                    #Табличка верхняя серая\n",
    "                    table_grey = page.find('ul', class_='n-product-tabs__list')\n",
    "                    #`Цены`\n",
    "                    prices_count_cell = table_grey.find('li', class_='n-product-tabs__item n-product-tabs__item_name_offers')\n",
    "                    \n",
    "                    #Количство цен (предложений)\n",
    "                    if prices_count_cell.find('span', class_='n-product-tabs__count') is not None:\n",
    "                        model_df['Quantaty'] = int(prices_count_cell.find('span', class_='n-product-tabs__count').text)\n",
    "                    else:\n",
    "                        model_df['Quantaty'] = 0\n",
    "                        \n",
    "                    #Цены Средняя, минимум, максимум со страницы модели в боттоме\n",
    "                    #Средняя _3TkwCtZtaF Мин/Макс _1S8ob0AgBK\n",
    " \n",
    "                    if model_df['Quantaty'] > 2:\n",
    "                        #а есть ли боттом c ценами?\n",
    "                        teg_h2 = page.find_all('h2')\n",
    "                        teg_h2_texts = [i.text for i in teg_h2]\n",
    "                        \n",
    "                        if 'Средняя цена' in teg_h2_texts:\n",
    "                        \n",
    "                            #margin_prices = page.find_all('div', class_='n-w-product-average-price__value') \n",
    "                            model_df['MinPrice'] = 'xxx' #int(margin_prices[0].find('span', class_='price').text.replace(' ',''))\n",
    "                            model_df['MaxPrice'] = 'xxx' #int(margin_prices[1].find('span', class_='price').text.replace(' ',''))\n",
    "                            avg_price = page.find('div', class_='_3TkwCtZtaF')#page.find('div', class_='n-w-product-average-price__average-value')\n",
    "                            model_df['AvgPrice'] = int(avg_price.find('span').text.replace(' ','').replace('₽',''))\n",
    "                        else:\n",
    "                            #тыды лезем внутря в список цен, руками:\n",
    "                            offers_href = 'https://market.yandex.ru' + str(prices_count_cell.find('a').get('href'))\n",
    "                            ref_href = 'https://market.yandex.ru' + model_df['Href']\n",
    "                            offers_price_list = pd.Series(offers_prices_harvest(offers_href, ref_href, model_df['Quantaty']))\n",
    "                            model_df['AvgPrice'] = offers_price_list.mean()\n",
    "                            model_df['MinPrice'] = offers_price_list.min()\n",
    "                            model_df['MaxPrice'] = offers_price_list.max()\n",
    "                        \n",
    "\n",
    "                    else:\n",
    "#                        model_dict['MinPrice'] = None \n",
    "#                        model_dict['MaxPrice'] = None\n",
    "                        avg_price = page.find('div', class_='n-product-price-cpa2__price')\n",
    "                        if avg_price is not None:\n",
    "                            model_df['AvgPrice'] = int(avg_price.find('span', class_='price').text.replace(' ','').replace('₽',''))\n",
    "                        else:\n",
    "                            model_df['AvgPrice'] = 'na'\n",
    "                    \n",
    "\n",
    "                    #ТТХ (если список характеристик не пуст - лезем на страницу характеристик модели)\n",
    "                    ttx_list = list(set(list(model_df.index)) - set(['Href', 'Vendor', 'Category','Name','Quantaty','MinPrice','MaxPrice','AvgPrice']))\n",
    "                    \n",
    "                    if len(ttx_list) != 0:\n",
    "                        try: #на случай если ссылки на характеристики нет\n",
    "                            ttx_link = str(page.find('a', class_ = 'n-product-summary__spec-link n-smart-link link i-bem').get('href'))\n",
    "                            \n",
    "                            ttx_href = 'https://market.yandex.ru' + ttx_link\n",
    "                            ref_href = 'https://market.yandex.ru' + model_df['Href']\n",
    "                            \n",
    "                            ttx_dict = ttx_harvest(ttx_list, ttx_href, ref_href)\n",
    "                            for i in ttx_list:\n",
    "                                model_df[i] = ttx_dict[i]\n",
    "             \n",
    "                                \n",
    "                        except AttributeError as Err_ttx:\n",
    "                            print(Err_ttx)\n",
    "\n",
    "                    \n",
    "                elif title.text == 'ÐÐ¹!':\n",
    "                    print('Облом: капча. Пропускаем')\n",
    "                    \n",
    "                else:\n",
    "                    print('Еще чета не так')\n",
    "            else:\n",
    "                print(response.status_code) \n",
    "                    \n",
    "        except Exception as Err:\n",
    "            print (Err)\n",
    "            raise\n",
    "            \n",
    " \n",
    "    else:\n",
    "        app_count = True  \n",
    "    \n",
    "    display(model_df)\n",
    "    return model_df\n",
    "    \n",
    "def price_parsing1(df):\n",
    "    \n",
    "    try:\n",
    "\n",
    "        df[df['Quantaty'].isna() == True] = df[df['Quantaty'].isna() == True].apply(model_page_parsing_v2, axis = 1)\n",
    "    \n",
    "    except Exception as Err:\n",
    "        print(Err)\n",
    "   \n",
    "    return df\n",
    "\n",
    "model_links_for_parse = pd.read_excel('Price_link_list/Ноутбук-ссылки от 2019-12-04--16-30.xlsx', index_col=0)\n",
    "previous_parsing_pass = pd.read_excel('Prices/Пустая_болванка_для_цен3.xlsx', index_col=0)\n",
    "\n",
    "fields = list(set(list(previous_parsing_pass.columns)) - set(['','Href', 'Vendor', 'Category']))\n",
    "\n",
    "print(fields)\n",
    "\n",
    "df_for_parse = model_links_for_parse[model_links_for_parse['Assemble'] == True][['Href','Name','Vendor','Category']].merge(previous_parsing_pass[fields], how = 'left', on = 'Name')\n",
    "\n",
    "print('на вход', len(df_for_parse))\n",
    "parsed_df = price_parsing1(df_for_parse)\n",
    "print('на выход', len(parsed_df))\n",
    "\n",
    " \n",
    "now = datetime.now().strftime('%d-%m-%y--%H-%M')\n",
    "parsed_excel_file_name = 'Prices/' + model_links_for_parse['Category'][0] + '-Цены' + now + '.xlsx'\n",
    "parsed_df.to_excel(parsed_excel_file_name)\n",
    "    \n",
    "\n",
    "\n",
    "\n"
   ]
  },
  {
   "cell_type": "code",
   "execution_count": null,
   "metadata": {},
   "outputs": [],
   "source": [
    "drop_df = pd.read_excel('Price_link_list/Часы-ссылки на прайсы от 2019-10-10--16-59.xlsx', index_col=0)\n",
    "print(len(drop_df))\n",
    "drop_df.drop_duplicates(inplace = True)\n",
    "\n",
    "\n",
    "drop_df.to_excel('Price_link_list/Часы-c-SIM от 2019-10-10--16-59_drop.xlsx')\n",
    "print(len(drop_df))\n"
   ]
  },
  {
   "cell_type": "code",
   "execution_count": null,
   "metadata": {},
   "outputs": [],
   "source": [
    "a = pd.DataFrame({'A':[1,2,3,4],\n",
    "                 'B':[4,5,6,7]})\n",
    "\n",
    "list(a.columns)"
   ]
  },
  {
   "cell_type": "code",
   "execution_count": null,
   "metadata": {},
   "outputs": [],
   "source": [
    "a = list()\n",
    "a = [1, 2, 3]\n",
    "\n",
    "b = pd.Series(a)\n",
    "b"
   ]
  }
 ],
 "metadata": {
  "kernelspec": {
   "display_name": "Python 3",
   "language": "python",
   "name": "python3"
  },
  "language_info": {
   "codemirror_mode": {
    "name": "ipython",
    "version": 3
   },
   "file_extension": ".py",
   "mimetype": "text/x-python",
   "name": "python",
   "nbconvert_exporter": "python",
   "pygments_lexer": "ipython3",
   "version": "3.7.3"
  }
 },
 "nbformat": 4,
 "nbformat_minor": 2
}
